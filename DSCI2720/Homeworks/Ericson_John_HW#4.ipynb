{
 "cells": [
  {
   "cell_type": "markdown",
   "id": "136940af",
   "metadata": {},
   "source": [
    "# Weekly Homework 4\n",
    "### John Ericson\n",
    "### Date: 2/06/2022"
   ]
  },
  {
   "cell_type": "markdown",
   "id": "eb6a1b17",
   "metadata": {},
   "source": [
    "# Prompt:"
   ]
  },
  {
   "cell_type": "markdown",
   "id": "7b566d2e",
   "metadata": {},
   "source": [
    "In today’s Lab we will explore on ways to do a de-duplication of videos where\n",
    "video filenames are presented as integers. For the purposes of our task, we will\n",
    "set a very narrow criterion for de-duplication : just the filenames.\n",
    "Below is how the filenames are represented\n",
    "ARRAY[] = [50, 11, 33, 21, 40, 50, 40, 40, 21]\n",
    "Below is the expected output after de-duplication\n",
    "ARRAY[] = [11, 21, 33, 40, 50]\n",
    "ATTN : Notice the reduced size of the output array.\n",
    "Also, take a look again at the input array and be reminded that the input array\n",
    "is not sorted !\n",
    "Further, please be reminded that you cannot use library functions to either\n",
    "sort and or perform the de-duplication operation. Doing so would straight up\n",
    "result in a score of Zero !\n",
    "(1) [100 points] Implement your solution in such a way that your solution\n",
    "uses Bubble Sort as a sorting routine which brings the sorting time\n",
    "complexity to O(nˆ2). After sorting, solve the de-duplication problem.\n",
    "De-duplication part of the solution in itself must adhere to O(n) time and\n",
    "O(1) space bounds."
   ]
  },
  {
   "cell_type": "code",
   "execution_count": 17,
   "id": "7b7dcd93",
   "metadata": {},
   "outputs": [
    {
     "data": {
      "text/plain": [
       "[11, 21, 33, 40, 50]"
      ]
     },
     "execution_count": 17,
     "metadata": {},
     "output_type": "execute_result"
    }
   ],
   "source": [
    "# Importing numpy for our test cases\n",
    "import numpy as np\n",
    "\n",
    "\n",
    "# In order to have a deduplication algorithm with time complexity of O(n) we need to sort the array first:\n",
    "\n",
    "# Defining our Bubble Sort function:\n",
    "def bubble_sort(array): \n",
    "    # The first for loop applies the bubble sorting to each element in the array\n",
    "    for i in range(len(array)-1):\n",
    "        # The second for loop is used to bubble sort each element (i.e. keep swapping the elements until it meets an element larger than it)\n",
    "        for j in range(len(array)-1 -i):\n",
    "            # The if statement swaps consecutive elements if the right one is smaller then the left one\n",
    "            if array[j]>array[j+1]:\n",
    "                # The actual swapping\n",
    "                array[j], array[j+1] = array[j+1], array[j]\n",
    "    # when we run through both loops we return our new sorted array\n",
    "    return array\n",
    "    \n",
    "# Defining the deduplicating function:\n",
    "def dedupe(array):\n",
    "    # In the case where the array has one element we just return it cannot have duplicate elements\n",
    "    if len(array) == 1:\n",
    "        return array\n",
    "    # In order to deduplicate the array (in O(n) time) we need it to be sorted first \n",
    "    bubble_sort(array)\n",
    "    # Set our counter to 0\n",
    "    i=0\n",
    "    # I chose a while loop over a for loop since elements disapear and manipulating a counter is easier than the alternative for a for loop\n",
    "    # The choice of while loop helps with the empty set case too becuase initially i = len(array)\n",
    "    # While our counter is less than the size of the array minus 1 because we dont want an index error\n",
    "    while i < len(array)-1:\n",
    "        # If we have a duplicate value then delete it from the array and our counter does not change\n",
    "        if array[i] == array[i+1]:\n",
    "            array.pop(i)\n",
    "        # If consecutive values are not the same move the counter by 1\n",
    "        else:\n",
    "            i+=1\n",
    "    # When our counter makes it to the end of the array (minus 1) exit the loop and return array\n",
    "    return array\n",
    "\n",
    "\n",
    "# Try some test cases: \n",
    "try: \n",
    "    arrays = [[], [0], [1, 1, 1, 1, 1, 1, 2], [-100, 200, 3, 5, 5, 5, 5, -200], np.linspace(0, 500, 100)]\n",
    "    for array in arrays:\n",
    "        dedupe(array)\n",
    "except:\n",
    "    print(\"You have an error in your code!\")\n",
    "    \n",
    "    \n",
    "\n",
    "# Our Actual Case:\n",
    "array = [50, 11, 33, 21, 40, 50, 40, 40, 21]\n",
    "# Implementing our actual case:\n",
    "dedupe(array)\n"
   ]
  },
  {
   "cell_type": "code",
   "execution_count": null,
   "id": "5f77d2a3",
   "metadata": {},
   "outputs": [],
   "source": []
  }
 ],
 "metadata": {
  "kernelspec": {
   "display_name": "Python 3 (ipykernel)",
   "language": "python",
   "name": "python3"
  },
  "language_info": {
   "codemirror_mode": {
    "name": "ipython",
    "version": 3
   },
   "file_extension": ".py",
   "mimetype": "text/x-python",
   "name": "python",
   "nbconvert_exporter": "python",
   "pygments_lexer": "ipython3",
   "version": "3.9.7"
  }
 },
 "nbformat": 4,
 "nbformat_minor": 5
}
