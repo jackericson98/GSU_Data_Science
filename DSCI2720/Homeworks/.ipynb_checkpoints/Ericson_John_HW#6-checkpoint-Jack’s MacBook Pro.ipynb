{
 "cells": [
  {
   "cell_type": "markdown",
   "id": "aad7dfc9",
   "metadata": {},
   "source": [
    "# Weekly Homework 6\n",
    "### John Ericson\n",
    "### Date: 2/19/2022"
   ]
  },
  {
   "cell_type": "markdown",
   "id": "9e1b6618",
   "metadata": {},
   "source": [
    "## Prompt:\n"
   ]
  }
 ],
 "metadata": {
  "kernelspec": {
   "display_name": "Python 3 (ipykernel)",
   "language": "python",
   "name": "python3"
  },
  "language_info": {
   "codemirror_mode": {
    "name": "ipython",
    "version": 3
   },
   "file_extension": ".py",
   "mimetype": "text/x-python",
   "name": "python",
   "nbconvert_exporter": "python",
   "pygments_lexer": "ipython3",
   "version": "3.9.7"
  }
 },
 "nbformat": 4,
 "nbformat_minor": 5
}
