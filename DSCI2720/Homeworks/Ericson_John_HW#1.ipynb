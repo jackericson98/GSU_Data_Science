{
 "cells": [
  {
   "cell_type": "markdown",
   "id": "242e95c9",
   "metadata": {},
   "source": [
    "# Weekly Homework 1\n",
    "### John Ericson\n",
    "### Date: 1/17/2022"
   ]
  },
  {
   "cell_type": "markdown",
   "id": "715cf9f3",
   "metadata": {},
   "source": [
    "## Question 1"
   ]
  },
  {
   "cell_type": "markdown",
   "id": "1db5a8ad",
   "metadata": {},
   "source": [
    "(20 points) Write a Python script called personalized hello world.py\n",
    "that prompts a user for their name and then displays “Hello, [name here]!”\n",
    "The flow should look like the following:\n",
    "What is your name? Firstname Lastname\n",
    "Hello, Firstname Lastname!\n",
    "If the user does not enter anything but presses Enter anyways, you should\n",
    "re-prompt for the user’s name. This flow should look like the following\n",
    "(note that there should be a space after any ? or :):\n",
    "What is your name?\n",
    "Please enter your name:\n",
    "Please enter your name: Firstname Lastname\n",
    "Hello, Firstname Lastname!"
   ]
  },
  {
   "cell_type": "code",
   "execution_count": null,
   "id": "86d9091b",
   "metadata": {},
   "outputs": [],
   "source": [
    "# Personalized hello world script:\n",
    "\n",
    "def personalized_hello_world():\n",
    "    \n",
    "    q1 = input(\"What is your name? \")\n",
    "    \n",
    "    # While the user's input is empty or only contains one name keep requesting their full name.\n",
    "    while q1 == \"\" or \" \" not in q1: \n",
    "        q1 = input(\"Please enter your full name (Example: Firstname Lastname):\")\n",
    "        \n",
    "    return print(\"Hello, {}!\" .format(q1)) \n",
    "\n",
    "personalized_hello_world()"
   ]
  },
  {
   "cell_type": "markdown",
   "id": "07a5d292",
   "metadata": {},
   "source": [
    "## Question 2"
   ]
  },
  {
   "cell_type": "markdown",
   "id": "5907ec5a",
   "metadata": {},
   "source": [
    "(80 points) Write a Python script called guess my number.py that prompts\n",
    "the user for an integer n, tells the user to think of a number between 0 and\n",
    "n −1, then makes guesses as to what the number is. After each guess, the\n",
    "program must ask the user if the number is lower, higher, or correct. You\n",
    "must implement the divide-and-conquer algorithm from class. In particu-\n",
    "lar, you should round up when the middle of your range is in between two\n",
    "integers. (For example, if your range is 0 to 31, you should guess 16 and\n",
    "not 15, but if your range is 0 to 30 you should certainly guess 15). The\n",
    "flow should look like the following:\n",
    "Enter n: 32\n",
    "Welcome to Guess My Number!\n",
    "Please think of a number between 0 and 31.\n",
    "Is your number: 16?\n",
    "Please enter C for correct, H for too high, or L for too low.\n",
    "Enter your response (H/L/C): H\n",
    "Is your number: 8?\n",
    "Please enter C for correct, H for too high, or L for too low.\n",
    "Enter your response (H/L/C): L\n",
    "Is your number: 12?\n",
    "Please enter C for correct, H for too high, or L for too low.\n",
    "Enter your response (H/L/C): C\n",
    "Thank you for playing Guess My Number!\n",
    "As part of your implementation, you should check that n is not 0 or\n",
    "negative. (You need not worry about the case where the user enters a\n",
    "non-integer). You should also check that the user is entering one of the\n",
    "letters H, L, or C each time your program makes a guess. This flow should\n",
    "look like the following:\n",
    "Enter n: -1\n",
    "Enter a positive integer for n: 32\n",
    "Welcome to Guess My Number!\n",
    "Please think of a number between 0 and 31.\n",
    "Is your number: 16?\n",
    "Please enter C for correct, H for too high, or L for too low.\n",
    "Enter your response (H/L/C): asdf\n",
    "2\n",
    "Enter your response (H/L/C): H\n",
    "Is your number: 8?\n",
    "...\n",
    "You can assume that the user will always give honest answers."
   ]
  },
  {
   "cell_type": "code",
   "execution_count": null,
   "id": "7297f6c6",
   "metadata": {},
   "outputs": [],
   "source": [
    "# Main function to call for guess my number game\n",
    "\n",
    "def guess_my_number():\n",
    "    \n",
    "    n = input(\"Enter n: \")\n",
    "    \n",
    "    if int(n) < 1: # Warning if the user inputs a non-positive integer.\n",
    "        print(\"That is not a valid input for n! Please try again with a positive integer!\")\n",
    "        guess_my_number()\n",
    "        \n",
    "    elif int(n) > 0: # Run the guessing function if the input is in the correct form.\n",
    "        print(\"\\nPlease think of a number between 1 and {}.\" .format(n))\n",
    "        guess(0, int(n))\n",
    "\n",
    "    \n",
    "    \n",
    "# Recursive function for guessing the user's number\n",
    "\n",
    "def guess(low, high):\n",
    "    \n",
    "    bound = ((high - low)//2) + low\n",
    "    \n",
    "    letter = input('Is your number: {}? \\n'\\\n",
    "        'Please enter C for correct, H for too high, or L for too low. \\n'\\\n",
    "        'Enter your response (H/L/C):' .format(bound))\n",
    "    \n",
    "    if letter == 'H' or letter == 'h': # Guess is too high case\n",
    "        guess(low, bound)\n",
    "        \n",
    "    elif letter == 'L' or letter == 'l': # Guess is too low case\n",
    "        guess(bound, high)\n",
    "        \n",
    "    elif letter == 'C' or letter == 'c':  # Guess is correct case\n",
    "        print(\"\\nThank you for playing Guess My Number! \\n\\nGoodbye!\")\n",
    "        \n",
    "    else: # User input is not H, h, L, l, C or c\n",
    "        print('\\nThat is not a valid input! Please try again:\\n')\n",
    "        guess(low, high)\n",
    "        \n",
    "    \n",
    "\n",
    "guess_my_number()\n",
    "    "
   ]
  },
  {
   "cell_type": "code",
   "execution_count": null,
   "id": "565e49b6",
   "metadata": {},
   "outputs": [],
   "source": []
  }
 ],
 "metadata": {
  "kernelspec": {
   "display_name": "Python 3 (ipykernel)",
   "language": "python",
   "name": "python3"
  },
  "language_info": {
   "codemirror_mode": {
    "name": "ipython",
    "version": 3
   },
   "file_extension": ".py",
   "mimetype": "text/x-python",
   "name": "python",
   "nbconvert_exporter": "python",
   "pygments_lexer": "ipython3",
   "version": "3.9.7"
  }
 },
 "nbformat": 4,
 "nbformat_minor": 5
}
