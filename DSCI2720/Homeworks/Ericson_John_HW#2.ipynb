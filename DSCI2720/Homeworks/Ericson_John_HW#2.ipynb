{
 "cells": [
  {
   "cell_type": "markdown",
   "id": "65a27f89",
   "metadata": {},
   "source": [
    "# Weekly Homework 2\n",
    "### John Ericson\n",
    "### Date: 1/24/2022"
   ]
  },
  {
   "cell_type": "markdown",
   "id": "356ed730",
   "metadata": {},
   "source": [
    "## Question 1"
   ]
  },
  {
   "cell_type": "markdown",
   "id": "779be81f",
   "metadata": {},
   "source": [
    "This is an array given below :\n",
    "[0, 1, 1, 0, 1, 2, 1, 2, 0, 0, 0, 1]\n",
    "\n",
    "Write a Python Program that re-arranges this given array exactly as shown\n",
    "below:\n",
    "\n",
    "0 0 0 0 0 1 1 1 1 1 2 2.\n",
    "\n",
    "You are not allowed to use an extra array to solve the problem :)"
   ]
  },
  {
   "cell_type": "code",
   "execution_count": 1,
   "id": "52cfa00c",
   "metadata": {},
   "outputs": [
    {
     "data": {
      "text/plain": [
       "[0, 0, 0, 0, 0, 1, 1, 1, 1, 1, 2, 2]"
      ]
     },
     "execution_count": 1,
     "metadata": {},
     "output_type": "execute_result"
    }
   ],
   "source": [
    "def arraynge(array):\n",
    "    n = len(array)\n",
    "    for i in range(n):\n",
    "        for j in range(n-i-1):\n",
    "            if array[j] > array[j+1]:\n",
    "                array[j], array[j+1] = array[j+1], array[j]\n",
    "    return array\n",
    "        \n",
    "myarray = [0, 1, 1, 0, 1, 2, 1, 2, 0, 0, 0, 1]        \n",
    "arraynge(myarray)"
   ]
  },
  {
   "cell_type": "markdown",
   "id": "c125d839",
   "metadata": {},
   "source": [
    "# Question 2"
   ]
  },
  {
   "cell_type": "markdown",
   "id": "19025a5c",
   "metadata": {},
   "source": [
    "Write a Python Program for adding one to number represented by digits\n",
    "in the given array\n",
    "\n",
    "The given array is [1, 9, 8, 9] so your script must generate an output which\n",
    "is an integer 1990."
   ]
  },
  {
   "cell_type": "code",
   "execution_count": 2,
   "id": "4dcf7e7c",
   "metadata": {},
   "outputs": [
    {
     "data": {
      "text/plain": [
       "1990"
      ]
     },
     "execution_count": 2,
     "metadata": {},
     "output_type": "execute_result"
    }
   ],
   "source": [
    "def num_add(array):\n",
    "    my_num=0\n",
    "    multiplier = 10**(len(array)-1)\n",
    "    for i in array:\n",
    "        my_num = my_num + i*multiplier\n",
    "        multiplier = multiplier//10\n",
    "    return my_num +1\n",
    "\n",
    "num_add([1, 9, 8, 9])"
   ]
  },
  {
   "cell_type": "code",
   "execution_count": null,
   "id": "9556da05",
   "metadata": {},
   "outputs": [],
   "source": []
  }
 ],
 "metadata": {
  "kernelspec": {
   "display_name": "Python 3 (ipykernel)",
   "language": "python",
   "name": "python3"
  },
  "language_info": {
   "codemirror_mode": {
    "name": "ipython",
    "version": 3
   },
   "file_extension": ".py",
   "mimetype": "text/x-python",
   "name": "python",
   "nbconvert_exporter": "python",
   "pygments_lexer": "ipython3",
   "version": "3.9.7"
  }
 },
 "nbformat": 4,
 "nbformat_minor": 5
}
