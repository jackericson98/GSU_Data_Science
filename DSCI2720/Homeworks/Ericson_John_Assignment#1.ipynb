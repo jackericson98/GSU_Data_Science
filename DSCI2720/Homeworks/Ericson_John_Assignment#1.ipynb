{
 "cells": [
  {
   "cell_type": "markdown",
   "id": "e4b99d15",
   "metadata": {},
   "source": [
    "# Assignment #1:"
   ]
  },
  {
   "cell_type": "markdown",
   "id": "fb9433ce",
   "metadata": {},
   "source": [
    "### Name: John Ericson\n",
    "### Date: 2-15-2022\n",
    "### Class: Data Structures"
   ]
  },
  {
   "cell_type": "markdown",
   "id": "645dd8c5",
   "metadata": {},
   "source": [
    "## Prompt:\n",
    "<p>Context and Problem Statement: A web search engine returns you a list of\n",
    "web-links that match the set of words in your query. Each web-link is assigned\n",
    "an integer for identification purposes(page-ID) This is done by maintaining an\n",
    "”inverted index”.<br>\n",
    "    \n",
    "An inverted index, at a very elementary level, is a mapping that takes a word\n",
    "and returns to you a list of web-links which contains the word.That list would\n",
    "be a sorted(ranked) array of page-IDs where the web-link with the highest rank\n",
    "for the query is displayed on top. When your query to the web search engine\n",
    "contains multiple words, the search engine needs to find the sorted array for each\n",
    "word and then computes the intersection of these arrays. Given the number of\n",
    "web-pages existing in the world-wide-web, this work is very computationally\n",
    "challenging ! <br>\n",
    "    \n",
    "In this assignment you are required to write programs which takes as input\n",
    "two sorted arrays and returns a new array containing the elements found in\n",
    "both the sorted arrays. It is alright if the input arrays have duplicates but the\n",
    "returned array should be duplicate free !<br>\n",
    "    \n",
    "Below is how the arrays are represented: <br>\n",
    "    \n",
    "ARRAY1 = [1, 5, 6, 6, 9, 9, 9, 11, 11, 21]<br>\n",
    "    \n",
    "Here length of ARRAY 1 is m.<br>\n",
    "    \n",
    "ARRAY2 = [6, 6, 9, 11, 21, 21, 21]<br>\n",
    "    \n",
    "Here length of ARRAY 2 is n. <br>\n",
    "    \n",
    "Array to be returned would be:<br>\n",
    "    \n",
    "ARRAY = [6, 9, 11, 21]<br>\n",
    "    \n",
    "ATTN : Please be reminded that you cannot use library functions to do any of\n",
    "the tasks required above. Doing so would straight up result in a score of Zero !\n",
    "\n",
    "\n",
    "</p>"
   ]
  },
  {
   "cell_type": "code",
   "execution_count": null,
   "id": "4d80d12d",
   "metadata": {},
   "outputs": [],
   "source": []
  },
  {
   "cell_type": "markdown",
   "id": "c29d436f",
   "metadata": {},
   "source": [
    "### Question 1: \n",
    "<p> \n",
    "    [40 points] Implement the function in such a way that your solution solves\n",
    "the problem with O(mn) time complexity. O(mn) is same as O(m ∗ n).\n",
    "This brute-force method suggested has a name called ”loop-join” where\n",
    "you basically just traverse through the elements of one array comparing\n",
    "it to the elements of the other array.\n",
    "    \n",
    "</p>"
   ]
  },
  {
   "cell_type": "code",
   "execution_count": 41,
   "id": "f1f7538a",
   "metadata": {},
   "outputs": [
    {
     "data": {
      "text/plain": [
       "[6, 9, 11, 21]"
      ]
     },
     "execution_count": 41,
     "metadata": {},
     "output_type": "execute_result"
    }
   ],
   "source": [
    "# Defining the double deduplication algorithm:\n",
    "\n",
    "def dub_dedupe1(array1, array2):\n",
    "    \n",
    "    # Create a new array to store our output values\n",
    "    array3 = []\n",
    "    \n",
    "    # Go through each element in array 1\n",
    "    for element1 in array1:\n",
    "        \n",
    "        # Go through each element in array 2\n",
    "        for element2 in array2:\n",
    "            \n",
    "            # If the elements have the same value and we have not already recorded that value in the output \n",
    "            # array, then append the output array with the value of the elements.  \n",
    "            if element1 == element2 and element1 not in array3:\n",
    "                \n",
    "                # The appending process\n",
    "                array3.append(element1)\n",
    "                \n",
    "    # Finally we return the array\n",
    "    return array3\n",
    "\n",
    "\n",
    "array1 = [1, 5, 6, 6, 9, 9, 9, 11, 11, 21]\n",
    "array2 = [6, 6, 9, 11, 21, 21, 21]\n",
    "dub_dedupe1(array1, array2)\n",
    "\n",
    "\n",
    "# My test cases: Empty array, Empty arrays, Array length 1, Arrays length 1, Arrays with no matching elements, Arrays with all matching elements. \n",
    "# All test cases worked without needing any extra code\n",
    "\n",
    "\n"
   ]
  },
  {
   "cell_type": "code",
   "execution_count": null,
   "id": "7e358bcd",
   "metadata": {},
   "outputs": [],
   "source": []
  },
  {
   "cell_type": "markdown",
   "id": "7f27fb55",
   "metadata": {},
   "source": [
    "### Question 2:\n",
    "<p>\n",
    "[40 points] In a separate implementation, code up a solution in such a way\n",
    "that your solution solves the problem with O(nlog(m)) time complexity\n",
    "or O(mlog(n)) time complexity. Here log means to the base of 2. I’m sure\n",
    "you already know that the hint is to use Binary Search.\n",
    "    \n",
    "</p>"
   ]
  },
  {
   "cell_type": "code",
   "execution_count": 57,
   "id": "a49fbccf",
   "metadata": {},
   "outputs": [
    {
     "data": {
      "text/plain": [
       "[6, 9, 11, 21]"
      ]
     },
     "execution_count": 57,
     "metadata": {},
     "output_type": "execute_result"
    }
   ],
   "source": [
    "# Defining our search algorithm that returns a bool value depending on if our element is in our array. O(log(n))\n",
    "\n",
    "def binary_search(element, array):\n",
    "    \n",
    "    # Start with arrays larger than size 1 since we will be doing this calculation the most\n",
    "    if len(array)>1:\n",
    "        \n",
    "        # Calculate the middle index of the array\n",
    "        mid = len(array)//2\n",
    "        \n",
    "        # If the value of our array at the middle index is equal to our value then we are done and return True\n",
    "        if array[mid] == element:\n",
    "            return True\n",
    "        \n",
    "        # If the element is smaller than the value of the array at middle index then do a binary search over the first half\n",
    "        elif element < array[mid]:\n",
    "            return binary_search(element, array[:mid])\n",
    "                \n",
    "        # If the element is larger than the value of the array at middle index then do a binary search over the second half\n",
    "        elif element > array[mid]:\n",
    "            return binary_search(element, array[mid:])\n",
    "    \n",
    "    # This covers tha case where our array is length 1 and its element is the value we are looking for\n",
    "    elif array[0] == element:\n",
    "        return True\n",
    "    \n",
    "    # If after the binary search we don't find our element then we return False\n",
    "    else:\n",
    "        return False\n",
    "        \n",
    "\n",
    "# Defining our Double Deduplicating algorithm O(nlog(n))\n",
    "\n",
    "def dub_dedupe2(array1, array2):\n",
    "    \n",
    "    # Create an output array\n",
    "    array3 = []\n",
    "    \n",
    "    # We use last element to prevent duplicates in our output array. Start by setting it equal to none.\n",
    "    last_element = None\n",
    "    \n",
    "    # Check each element in array 1 to see if it can be found in array 2\n",
    "    for element in array1:\n",
    "        \n",
    "        # If the element from array 1 is also in array 2 (which is determined by our binary search) we move on\n",
    "        if binary_search(element, array2):\n",
    "            \n",
    "            # If we haven't already recorded our element then add it to the array. \n",
    "            if element != last_element:\n",
    "                array3.append(element)\n",
    "                \n",
    "                # If we add something to our output array, we need to update the last element, so we don't add it again\n",
    "                last_element = element\n",
    "    \n",
    "    # When we are finished, return our output array\n",
    "    return array3\n",
    "\n",
    "\n",
    "array1 = [1, 5, 6, 6, 9, 9, 9, 11, 11, 21]\n",
    "array2 = [6, 6, 9, 11, 21, 21, 21]\n",
    "dub_dedupe2(array1, array2)\n",
    "\n",
    "\n",
    "\n",
    "\n",
    "# My test cases: Empty array, Empty arrays, Array length 1, Arrays length 1, Arrays with no matching elements, Arrays with all matching elements. \n",
    "# Empty array(s) just worked, Array(s) of length 1 I had to put in an extra if statement to cover that, every other test case I tried just worked. \n",
    "\n",
    "\n",
    "\n",
    "\n"
   ]
  },
  {
   "cell_type": "code",
   "execution_count": null,
   "id": "c9a75aca",
   "metadata": {},
   "outputs": [],
   "source": []
  },
  {
   "cell_type": "markdown",
   "id": "02b8f8c1",
   "metadata": {},
   "source": [
    "### Question 3:\n",
    "<p>\n",
    "[20 points] In the form of sentences, as a comment in your code (at the\n",
    "bottom of your Solution2), you are required to suggest how can Solution2\n",
    "be improved by leveraging the fact that both the arrays are already sorted.\n",
    "Suggest a solution so that your suggested solution can run linearly with\n",
    "O(m + n) time complexity. Your suggestion should be no more than 5\n",
    "sentences :)\n",
    "    \n",
    "</p>"
   ]
  },
  {
   "cell_type": "markdown",
   "id": "5fa11a52",
   "metadata": {},
   "source": [
    "#### My Answer:\n",
    "<p>\n",
    "    In order to do this we would need to run a pointer on array1, a pointer on array 2 and have a variable that stores our last value of our output array. First compare the first elements of each array. If they are equal to each other, but not our last value of our output array, then we add the value to our output array and incriment both. If one is larger than the other, increment the smaller one. Repeat this process until the pointers have made it all the way through both arrays. This ensures that the time complexity of our algorithm will be O(m+n) exactly. \n",
    "    \n",
    "</p>"
   ]
  },
  {
   "cell_type": "code",
   "execution_count": null,
   "id": "698a653b",
   "metadata": {},
   "outputs": [],
   "source": []
  },
  {
   "cell_type": "markdown",
   "id": "93f2a4ca",
   "metadata": {},
   "source": [
    "### Additional Notes:\n",
    "<p>\n",
    "    \n",
    "Very Very Important :<br>\n",
    "    \n",
    "(1) Your code should be well commented which explains all the steps you are\n",
    "performing to solve the problem. A submission without code comments\n",
    "will immediately be deducted 15 points ! <br>\n",
    "    \n",
    "(2) As a comment in your code, please write your test-cases on how you would\n",
    "test your solution assumptions and hence your code.\n",
    "A submission without test cases will immediately be deducted 15 points !\n",
    "Example of cases to be tested for are like : What if the array input which\n",
    "is expected does not exist - that is , input is a null. How should your code\n",
    "handle such a situation ? Maybe output some message like ”Null input\n",
    "case, so no output”? What if the length of the array is one ?....so on and\n",
    "so forth.<br>\n",
    "    \n",
    "Please Remember : Although, written as comments - You will address\n",
    "your test cases in the form of code and not prose :)\n",
    "    \n",
    "</p>"
   ]
  }
 ],
 "metadata": {
  "kernelspec": {
   "display_name": "Python 3 (ipykernel)",
   "language": "python",
   "name": "python3"
  },
  "language_info": {
   "codemirror_mode": {
    "name": "ipython",
    "version": 3
   },
   "file_extension": ".py",
   "mimetype": "text/x-python",
   "name": "python",
   "nbconvert_exporter": "python",
   "pygments_lexer": "ipython3",
   "version": "3.9.7"
  }
 },
 "nbformat": 4,
 "nbformat_minor": 5
}
