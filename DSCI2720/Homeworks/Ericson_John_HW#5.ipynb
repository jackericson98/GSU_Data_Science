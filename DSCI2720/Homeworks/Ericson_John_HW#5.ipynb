{
 "cells": [
  {
   "cell_type": "markdown",
   "id": "fce8dc53",
   "metadata": {},
   "source": [
    "# Weekly Homework 5\n",
    "### John Ericson\n",
    "### Date: 2/11/2022"
   ]
  },
  {
   "cell_type": "markdown",
   "id": "e3b7cc52",
   "metadata": {},
   "source": [
    "# Prompt:"
   ]
  },
  {
   "cell_type": "markdown",
   "id": "ffe347d4",
   "metadata": {},
   "source": [
    "<p>Today we will explore on ways to do a de-duplication of videos where video\n",
    "Filenames are presented as integers. For the purposes of our task, we will set a\n",
    "very narrow criterion for de-duplication : just the filenames.<br>\n",
    "    \n",
    "Below is how the filenames are represented<br>\n",
    "    \n",
    "ARRAY[] = [50, 11, 33, 21, 40, 50, 40, 40, 21]<br>\n",
    "    \n",
    "Below is the expected output after de-duplication<br>\n",
    "    \n",
    "ARRAY[] = [11, 21, 33, 40, 50]<br>\n",
    "    \n",
    "ATTN : Notice the reduced size of the output array.<br>\n",
    "Also, take a look again at the input array and be reminded that the input array\n",
    "is not sorted !<br>\n",
    "    \n",
    "Further, please be reminded that you cannot use library functions to either\n",
    "sort and or perform the de-duplication operation. Doing so would straight up\n",
    "result in a score of Zero !<br>\n",
    "    \n",
    "You will solve the problem as:<br>\n",
    "    \n",
    "(1)  [100 points] Implement the function in such a way that your solution solves\n",
    "     the problem with O(n log2(n)) time complexity overall but stays within\n",
    "     the bounds of O(1) space complexity. Here, n is the length of the list of input integers (array). I believe the sorting routine that should be used here\n",
    "is Quick Sort. Please state as code comment which sorting routine you\n",
    "are using, sort the array with that algorithm and solve the de-duplication\n",
    "problem thereafter. De-duplication part of the solution in itself must adhere to O(n) time and O(1) space bounds. However, at this stage of the\n",
    "course we will not be considering any memory used by recursion.</p>"
   ]
  },
  {
   "cell_type": "code",
   "execution_count": null,
   "id": "662d4c43",
   "metadata": {},
   "outputs": [],
   "source": [
    "import numpy as np\n",
    "\n",
    "\n",
    "# Defining our quick sort algorithm\n",
    "def quick_sort(array, low, high):\n",
    "    # Takes the inputs high and low because these change for each recursion\n",
    "    \n",
    "    # The base case \n",
    "    if len(array) == 1:\n",
    "        \n",
    "        return array\n",
    "    \n",
    "    # Recursion case\n",
    "    # \n",
    "    elif low < high:\n",
    "        \n",
    "        # Start our i pointer as one behind our low value\n",
    "        i = low - 1\n",
    "        \n",
    "        # Set our pivot index to be our high index\n",
    "        pivot = high\n",
    "        \n",
    "        # Sorting\n",
    "        for j in range(low, high):\n",
    "            # If our j pointer value is less than the pivot increase i by 1 and swap it with new i pointer value\n",
    "            if array[j] <= array[pivot]:\n",
    "                i+=1\n",
    "                array[i], array[j] = array[j], array[i] \n",
    "                \n",
    "        # Once we make it through the values in the array swap the i+1 element with the high element. \n",
    "        array[i+1], array[high] = array[high], array[i+1]\n",
    "        \n",
    "        # Split the data at our new pivot (i) and then sort the two new partitions\n",
    "        quick_sort(array, low, i)\n",
    "        quick_sort(array, i+1, high)\n",
    "        \n",
    "    return array\n",
    "        \n",
    "\n",
    "def dedupe(array):\n",
    "    # In the case where the array has one element we just return it cannot have duplicate elements\n",
    "    if len(array) == 1:\n",
    "        return array\n",
    "    \n",
    "    # In order to deduplicate the array (in O(n) time) we need it to be sorted first \n",
    "    # We set our low and high indicies to the first and last elements of the array respectively\n",
    "    quick_sort(array, 0, len(array)-1)\n",
    "    \n",
    "    # Once sorted we can get to the deduplicating:\n",
    "    # Set our counter to 0\n",
    "    i=0\n",
    "    \n",
    "    # The code will run until our counter index reaches the 2nd to last value\n",
    "    while i < len(array)-1:\n",
    "        \n",
    "        # If we have a duplicate value then delete it from the array\n",
    "        if array[i] == array[i+1]:\n",
    "            array.pop(i)\n",
    "            \n",
    "        # If not move the counter by 1\n",
    "        else:\n",
    "            i+=1\n",
    "    # When our counter makes it to the 2nd to last element exit the loop and return array\n",
    "    return array\n",
    "\n",
    "\n",
    "\n",
    "# Try some test cases: \n",
    "try: \n",
    "    arrays = [[], [0], [1, 1, 1, 1, 1, 1, 2], [-100, 200, 3, 5, 5, 5, 5, -200], np.linspace(0, 500, 100)]\n",
    "    for array in arrays:\n",
    "        dedupe(array)\n",
    "except:\n",
    "    print(\"You have an error in your code!\")\n",
    "    \n",
    "    \n",
    "# Our Actual Case:\n",
    "array = [50, 11, 33, 21, 40, 50, 40, 40, 21]\n",
    "# Implementing our actual case:\n",
    "dedupe(array)"
   ]
  },
  {
   "cell_type": "code",
   "execution_count": 2,
   "id": "2d886904",
   "metadata": {},
   "outputs": [
    {
     "data": {
      "text/plain": [
       "4"
      ]
     },
     "execution_count": 2,
     "metadata": {},
     "output_type": "execute_result"
    }
   ],
   "source": [
    "def f(b):\n",
    "    return at*b\n",
    "at=4\n",
    "f(1)"
   ]
  },
  {
   "cell_type": "code",
   "execution_count": 14,
   "id": "0b552ea1",
   "metadata": {},
   "outputs": [
    {
     "data": {
      "text/plain": [
       "array([[ 0,  2],\n",
       "       [15, 17]])"
      ]
     },
     "execution_count": 14,
     "metadata": {},
     "output_type": "execute_result"
    }
   ],
   "source": [
    "import numpy as np\n",
    "array = np.array([[0, 1, 2], [3, 4, 5], [6, 7, 8], [9, 10, 11], [12, 13, 14], [15, 16, 17], [18, 19, 20]])\n",
    "array[::5, ::2]"
   ]
  },
  {
   "cell_type": "code",
   "execution_count": 19,
   "id": "caa46918",
   "metadata": {},
   "outputs": [
    {
     "data": {
      "text/plain": [
       "array([[1, 3, 5],\n",
       "       [0, 4, 6]])"
      ]
     },
     "execution_count": 19,
     "metadata": {},
     "output_type": "execute_result"
    }
   ],
   "source": [
    "array1 = [[1, 1],[2, 0]]\n",
    "array2 = [[0, 2, 3],[1, 1, 2]]\n",
    "np.dot(array1, array2)"
   ]
  },
  {
   "cell_type": "code",
   "execution_count": null,
   "id": "28c58251",
   "metadata": {},
   "outputs": [],
   "source": []
  }
 ],
 "metadata": {
  "kernelspec": {
   "display_name": "Python 3 (ipykernel)",
   "language": "python",
   "name": "python3"
  },
  "language_info": {
   "codemirror_mode": {
    "name": "ipython",
    "version": 3
   },
   "file_extension": ".py",
   "mimetype": "text/x-python",
   "name": "python",
   "nbconvert_exporter": "python",
   "pygments_lexer": "ipython3",
   "version": "3.9.7"
  }
 },
 "nbformat": 4,
 "nbformat_minor": 5
}
