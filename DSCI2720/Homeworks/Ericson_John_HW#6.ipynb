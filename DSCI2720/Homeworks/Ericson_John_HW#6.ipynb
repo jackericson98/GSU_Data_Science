{
 "cells": [
  {
   "cell_type": "markdown",
   "id": "aad7dfc9",
   "metadata": {},
   "source": [
    "# Weekly Homework 6\n",
    "### John Ericson\n",
    "### Date: 2/19/2022"
   ]
  },
  {
   "cell_type": "markdown",
   "id": "9e1b6618",
   "metadata": {},
   "source": [
    "## Prompt:\n",
    "\n",
    "\n",
    "    In today’s Lab we will explore on ways to do a de-duplication of videos where video filenames are presented as integers. For the purposes of our task, we will set a very narrow criterion for de-duplication : just the filenames: \n",
    "    \n",
    "    \n",
    "    Below is how the filenames are represented \n",
    "    ARRAY[] = [50, 11, 33, 21, 40, 50, 40, 40, 21] \n",
    "    \n",
    "    Below is the expected output after de-duplication \n",
    "    ARRAY[] = [11, 21, 33, 40, 50] \n",
    "    \n",
    "    ATTN : Notice the reduced size of the output array. Also, take a look again at the input array and be reminded that the input array is not sorted ! \n",
    "    \n",
    "    Further, please be reminded that you cannot use library functions to either sort and or perform the de-duplication operation. Doing so would straight up result in a score of Zero !\n",
    "    \n",
    "    You will solve the problem in two ways:\n",
    "    \n",
    "    (1) [100 points] Implement the function in such a way that your solution solves the problem with O(n log2(n)) time complexity overall and O(n) space complexity. Here, n is the length of the list of input integers (array). I believe the sorting routine that can be used here is Merge Sort. Please state as code comment which sorting routine you are using, sort the array with that algorithm and solve the de-duplication problem thereafter. De-duplication part of the solution in itself must adhere to O(n) time and O(1) space bounds. However, at this stage of the course we will not be considering any memory used by recursion."
   ]
  },
  {
   "cell_type": "code",
   "execution_count": 1,
   "id": "bc774217",
   "metadata": {},
   "outputs": [
    {
     "name": "stdout",
     "output_type": "stream",
     "text": [
      "[] works\n",
      "[0] works\n",
      "[1, 1, 1, 1, 1, 1] works\n",
      "[-100, 200, 3, 5, 5, 5, 5, -200] works\n",
      "['a', 'b', 'd', 'c', 'a'] works\n"
     ]
    },
    {
     "data": {
      "text/plain": [
       "[11, 21, 33, 40, 50]"
      ]
     },
     "execution_count": 1,
     "metadata": {},
     "output_type": "execute_result"
    }
   ],
   "source": [
    "# Definfing our sorting algorithm: Merge Sort\n",
    "\n",
    "def merge_sort(array):\n",
    "    \n",
    "    # This if statment works as a stop for the splitting process. It stops at arrays of size 2\n",
    "    if len(array) > 1:\n",
    "        \n",
    "        # Calculate the middle index of our array\n",
    "        mid = len(array)//2\n",
    "        \n",
    "        # Create left and right arrays\n",
    "        L = array[:mid]\n",
    "        R = array[mid:]\n",
    "        \n",
    "        # Recursive call to sort our split arrays. This statment does nothing once our arrays are size 1 (see 1st if statement)\n",
    "        merge_sort(L)\n",
    "        merge_sort(R)\n",
    "        \n",
    "        # Set our sorting pointers to 0. l = left pointer, r = right pointer, a = array pointer\n",
    "        l = r = a = 0\n",
    "        \n",
    "        # The actual sorting process\n",
    "        # As long as our pointers arent greater than the lengths of our left and right arrays keep sorting \n",
    "        while len(L) > l and len(R) > r:\n",
    "            \n",
    "            # If our left pointer value is less than our right pointer value add it to the output array and increment left pointer\n",
    "            if L[l] < R[r]:\n",
    "                array[a] = L[l]\n",
    "                l += 1\n",
    "            \n",
    "            # If not add right pointer value to our array and increment right pointer value\n",
    "            else:\n",
    "                array[a] = R[r]\n",
    "                r += 1\n",
    "            \n",
    "            # Increment our array pointer since either way we added a value to it\n",
    "            a += 1\n",
    "            \n",
    "        # Since our while loop above requires both arrays still have elements, we need to cover the end case \n",
    "        # when either left or right array still has elements to be sorted.     \n",
    "        while l < len(L):\n",
    "            array[a] = L[l]\n",
    "            l += 1 \n",
    "            a += 1\n",
    "            \n",
    "        while r < len(R):\n",
    "            array[a] = R[r]\n",
    "            r += 1 \n",
    "            a += 1\n",
    "    \n",
    "    # Finally we return our array\n",
    "    return array\n",
    "\n",
    "\n",
    "# Defining our deduplication function\n",
    "def dedupe(array):\n",
    "\n",
    "    # First sort the array using our merge sort function \n",
    "    array = merge_sort(array)\n",
    "    \n",
    "    # Set our array pointer to the second element in the array\n",
    "    a = 1\n",
    "    \n",
    "    # Deduplicating loop (O(n) time complexity, O(1) space complexity)\n",
    "    while a < len(array):\n",
    "        \n",
    "        # If our current array element is equal to the previous element we delete it\n",
    "        if array[a] == array[a - 1]:\n",
    "            array.pop(a)\n",
    "        \n",
    "        # If not we move the pointer\n",
    "        else:\n",
    "            a += 1\n",
    "            \n",
    "    # Return our sorted deduplicated array\n",
    "    return(array)\n",
    "\n",
    "\n",
    "# Try some test cases: Empty, single element, one element type, negative numbers, array of strings\n",
    "# arrays = [[], [0], [1, 1, 1, 1, 1, 1], [-100, 200, 3, 5, 5, 5, 5, -200], ['a', 'b', 'd', 'c', 'a']]\n",
    "\n",
    "# for array in arrays:\n",
    "#     try: \n",
    "#         print(\"{} works\" .format(array))\n",
    "#     except:\n",
    "#         print(\"You have an error in your code! It failed with this array: {}\" .format(array))\n",
    "\n",
    "    \n",
    "    \n",
    "# Our Actual Case:\n",
    "array = [50, 11, 33, 21, 40, 50, 40, 40, 21] \n",
    "# Implementing our actual case:\n",
    "dedupe(array)"
   ]
  },
  {
   "cell_type": "code",
   "execution_count": null,
   "id": "f6beefa3",
   "metadata": {},
   "outputs": [],
   "source": []
  }
 ],
 "metadata": {
  "kernelspec": {
   "display_name": "Python 3 (ipykernel)",
   "language": "python",
   "name": "python3"
  },
  "language_info": {
   "codemirror_mode": {
    "name": "ipython",
    "version": 3
   },
   "file_extension": ".py",
   "mimetype": "text/x-python",
   "name": "python",
   "nbconvert_exporter": "python",
   "pygments_lexer": "ipython3",
   "version": "3.9.7"
  }
 },
 "nbformat": 4,
 "nbformat_minor": 5
}
