{
 "cells": [
  {
   "cell_type": "markdown",
   "id": "49f740eb",
   "metadata": {},
   "source": [
    "# Weekly Homework 3\n",
    "### John Ericson\n",
    "### Date: 1/31/2022"
   ]
  },
  {
   "cell_type": "markdown",
   "id": "c8f082e3",
   "metadata": {},
   "source": [
    "# Prompt:"
   ]
  },
  {
   "cell_type": "markdown",
   "id": "5076c840",
   "metadata": {},
   "source": [
    "In today’s Lab we will explore on ways to do a clock-wise rotation of an example\n",
    "bit-map representation of an image aka A Matrix. Below is the matrix :\n",
    "\n",
    "1 2 3 4\n",
    "5 6 7 8\n",
    "9 10 11 12\n",
    "13 14 15 16\n",
    "\n",
    "Our objective is to write (a) function(s) to rotate the above matrix by 90-\n",
    "degrees clockwise which produces the matrix as below:\n",
    "\n",
    "13 9 5 1\n",
    "14 10 6 2\n",
    "15 11 7 3\n",
    "16 12 8 4\n",
    "\n",
    "We will solve the problem in two ways:-"
   ]
  },
  {
   "cell_type": "markdown",
   "id": "1b7ec169",
   "metadata": {},
   "source": [
    "# Question 1:"
   ]
  },
  {
   "cell_type": "markdown",
   "id": "b131494e",
   "metadata": {},
   "source": [
    "[50 points] Implement the function by allocating a new n X n 2D array.\n",
    "Then write the rotation to it by writing the rows of the original matrix to\n",
    "the columns in the solution matrix such that they fit the solution requirement. Then copy the new matrix exactly the same to the original matrix\n",
    "so that you know for sure you have updated the original matrix to look\n",
    "modified."
   ]
  },
  {
   "cell_type": "code",
   "execution_count": null,
   "id": "b16cfcea",
   "metadata": {},
   "outputs": [],
   "source": [
    "import numpy as np\n",
    "\n",
    "def rot_1(matrix):\n",
    "    n = len(matrix)\n",
    "    new_matrix = np.zeros((n, n))\n",
    "    for i in range(n):\n",
    "        for j in range(n):\n",
    "            new_matrix[i][j] = matrix[n-j-1][i]\n",
    "    matrix = new_matrix.astype('int')\n",
    "    return matrix\n",
    "rot_1(matrix)"
   ]
  },
  {
   "cell_type": "markdown",
   "id": "731ce3c2",
   "metadata": {},
   "source": [
    "# Question 2:"
   ]
  },
  {
   "cell_type": "markdown",
   "id": "dd661444",
   "metadata": {},
   "source": [
    "[50 points] Implement the function by not allocating a new n X n 2D\n",
    "array.\n",
    "Hint : Perform the rotation in a layer by layer fashion - meaning - different layers can be processed independently. Also within a layer, you\n",
    "can exchange groups of four elements at a time to perform the rotation.\n",
    "Example : Send 1 to 4’s location, 4 to 16’s location, 16 to 13’s location\n",
    "and 13 to 1’s location."
   ]
  },
  {
   "cell_type": "code",
   "execution_count": null,
   "id": "563b3b90",
   "metadata": {},
   "outputs": [],
   "source": [
    "# My attampt at this problem without outside help. \n",
    "# I couldn't figure out a pattern from the swaps enough to create a function of my own. \n",
    "\n",
    "\n",
    "matrix = [[1, 2, 3, 4], [5, 6, 7, 8], [9, 10, 11, 12], [13, 14, 15, 16]]\n",
    "def rot_2(matrix):\n",
    "\n",
    "    \n",
    "    matrix[0][0], matrix[0][3], matrix[3][3], matrix[3][0] = matrix[3][0], matrix[0][0], matrix[0][3], matrix[3][3]\n",
    "    matrix[0][1], matrix[1][3], matrix[3][2], matrix[2][0] = matrix[2][0], matrix[0][1], matrix[1][3], matrix[3][2]\n",
    "    matrix[0][2], matrix[2][3], matrix[3][1], matrix[1][0] = matrix[1][0], matrix[0][2], matrix[2][3], matrix[3][1]\n",
    "    matrix[1][1], matrix[1][2], matrix[2][2], matrix[2][1] = matrix[2][1], matrix[1][1], matrix[1][2], matrix[2][2]\n",
    "    \n",
    "    return matrix\n",
    "rot_2(matrix)"
   ]
  },
  {
   "cell_type": "code",
   "execution_count": null,
   "id": "02fd0278",
   "metadata": {},
   "outputs": [],
   "source": [
    "# After doing some research I found a method using a storage variable that gets reused each iteration.\n",
    "# While I did rewrite this code from memory and adapt it to rotate cw rather than ccw, THIS IS NOT MY WORK.\n",
    "\n",
    "matrix = [[1, 2, 3, 4], [5, 6, 7, 8], [9, 10, 11, 12], [13, 14, 15, 16]]\n",
    "\n",
    "def transpose(matrix):\n",
    "    store = matrix[0][0]\n",
    "    for i in range(len(matrix)):\n",
    "        for j in range(i, len(matrix)):\n",
    "            store = matrix[i][j]\n",
    "            matrix[i][j] = matrix[j][i]\n",
    "            matrix[j][i] = store\n",
    "            \n",
    "    return matrix\n",
    "\n",
    "def swap_cols(matrix):\n",
    "    n = len(matrix)\n",
    "    for i in range(n):\n",
    "        j = 0\n",
    "        k = n - 1\n",
    "        while j<k:\n",
    "            store = matrix[i][j]\n",
    "            matrix[i][j] = matrix[i][k]\n",
    "            matrix[i][k] = store\n",
    "            j+=1\n",
    "            k-=1\n",
    "            \n",
    "def rot_2(matrix):\n",
    "    transpose(matrix)\n",
    "    swap_cols(matrix)\n",
    "    return matrix\n",
    "\n",
    "rot_2(matrix)\n",
    "\n",
    "\n",
    "\n",
    "# Observations:\n",
    "\n",
    "# The first solution requires an additional matrix the size of the first matrix which, gives us a space complexity of O(n). The first solution uses a nested \n",
    "# loop, but only does one operation per input of the matrix, giving it a time complexity of O(n). The second solution re-uses the same matrix to do each \n",
    "# operation and re-uses one storage variable for each loop iteration, giving it a space somplexity of O(1), which is much better than the first solution. \n",
    "# Since each matrix element has to be manipulated twice we can say the time complexity of the second solution is also O(n), but slightly worse. The second \n",
    "# solution is better because they both have the same time complexity, but the second has a much better space complexity. "
   ]
  },
  {
   "cell_type": "code",
   "execution_count": null,
   "id": "c2771b2e",
   "metadata": {},
   "outputs": [],
   "source": []
  }
 ],
 "metadata": {
  "kernelspec": {
   "display_name": "Python 3 (ipykernel)",
   "language": "python",
   "name": "python3"
  },
  "language_info": {
   "codemirror_mode": {
    "name": "ipython",
    "version": 3
   },
   "file_extension": ".py",
   "mimetype": "text/x-python",
   "name": "python",
   "nbconvert_exporter": "python",
   "pygments_lexer": "ipython3",
   "version": "3.9.7"
  }
 },
 "nbformat": 4,
 "nbformat_minor": 5
}
