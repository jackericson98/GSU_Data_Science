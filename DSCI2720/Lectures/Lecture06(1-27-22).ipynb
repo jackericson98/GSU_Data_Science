{
 "cells": [
  {
   "cell_type": "markdown",
   "id": "5d904b2a",
   "metadata": {},
   "source": [
    "# Lecture 6: Recursion"
   ]
  },
  {
   "cell_type": "markdown",
   "id": "f9c52ea1",
   "metadata": {},
   "source": [
    "### Date: 1-27-22, Class: Data Structures, John Ericson"
   ]
  },
  {
   "cell_type": "code",
   "execution_count": 12,
   "id": "b1e850ed",
   "metadata": {},
   "outputs": [
    {
     "data": {
      "text/plain": [
       "[24, 12, 6, 8]"
      ]
     },
     "execution_count": 12,
     "metadata": {},
     "output_type": "execute_result"
    }
   ],
   "source": [
    "# Last Class: Prefix/Suffix Array Problem\n",
    "\n",
    "def arr_div(array):\n",
    "    prefix = 1\n",
    "    suffix = 1\n",
    "    prefix_arr = [prefix]\n",
    "    suffix_arr = [suffix]\n",
    "\n",
    "    for i in range(len(array)):\n",
    "        prefix = array[i]*prefix\n",
    "        prefix_arr.append(prefix)\n",
    "        suffix = array[-i-1]*suffix\n",
    "        suffix_arr.insert(0, suffix)\n",
    "\n",
    "    sol_arr = []    \n",
    "    for i in range(len(array)):\n",
    "        sol_arr.append(prefix_arr[i]*suffix_arr[i+1])\n",
    "\n",
    "    return sol_arr\n",
    "\n",
    "arr_div([1, 2, 3, 4])"
   ]
  },
  {
   "cell_type": "code",
   "execution_count": 7,
   "id": "a901d720",
   "metadata": {},
   "outputs": [
    {
     "name": "stdout",
     "output_type": "stream",
     "text": [
      "34\n"
     ]
    },
    {
     "data": {
      "text/plain": [
       "34"
      ]
     },
     "execution_count": 7,
     "metadata": {},
     "output_type": "execute_result"
    }
   ],
   "source": [
    "# Last Class: Encryption Problem\n",
    "\n",
    "def fib(i):\n",
    "    if i <= 1:\n",
    "        return i\n",
    "    else:\n",
    "        return fib(i-1) + fib(i-2)\n",
    "    \n",
    "    \n",
    "def encryption(number):\n",
    "    str_num = str(number)\n",
    "    raw = fib(len(str_num)+1)\n",
    "#     for i in range(len(str_num)-1):\n",
    "#         if int(str_num[i]+str_num[i+1]) > 26:\n",
    "#             raw -= 2\n",
    "#             print(str_num[i]+str_num[i+1])\n",
    "    return raw\n",
    "    \n",
    "encryption(32148712)"
   ]
  },
  {
   "cell_type": "code",
   "execution_count": 11,
   "id": "cdbd8e50",
   "metadata": {},
   "outputs": [],
   "source": [
    "# How to: Incomplete\n",
    "\n",
    "def numDecodings(s: str) -> int: # This bad\n",
    "    if len(s) == 0 or (len(s) == 1 and s[0] == \"0\"):\n",
    "        numDecodingsHelper(s[n-1], n)\n",
    "        \n",
    "    \n",
    "    \n",
    "def numDecodingsHelper(s: str, n: int) -> int: # This good\n",
    "    \n",
    "    if n == 0 or n == 1:\n",
    "        return 1\n",
    "    count = 0\n",
    "    if s[n-1] > \"0\":\n",
    "        count = numDecodingsHelper(s, n-1)\n",
    "    if (s[n - 2] =='1'\n",
    "       or (s[n - 2] == '2' and s[n - 1] < '7')):\n",
    "        count += numDecodingsHelper(s, n - 2)\n",
    "    return count\n",
    "\n",
    "numDecodings(\"121\")"
   ]
  },
  {
   "cell_type": "code",
   "execution_count": 13,
   "id": "6737c571",
   "metadata": {},
   "outputs": [],
   "source": [
    "# The problem: Find the length of the longest increasing non contiguous subsequence given an array\n",
    "\n",
    "def find_sub(array):\n",
    "    for i in len(array):\n",
    "        if array[i] > array[i-1]: \n",
    "    else:\n",
    "        return find_sub()\n",
    "    \n",
    "    \n"
   ]
  },
  {
   "cell_type": "code",
   "execution_count": 28,
   "id": "fc14c9db",
   "metadata": {},
   "outputs": [
    {
     "data": {
      "text/plain": [
       "4"
      ]
     },
     "execution_count": 28,
     "metadata": {},
     "output_type": "execute_result"
    }
   ],
   "source": [
    "def sub_num(array)\n",
    "\n",
    "\n",
    "def find_sub(n):\n",
    "    count = 1\n",
    "    if array[n] < array[n+1]:\n",
    "        count+=1\n",
    "    else:\n",
    "         \n",
    "            \n",
    "    return count\n",
    "        \n",
    "find_sub([1, 2, 3, 4])\n",
    "        \n",
    "\n",
    "    "
   ]
  },
  {
   "cell_type": "code",
   "execution_count": null,
   "id": "49f27767",
   "metadata": {},
   "outputs": [],
   "source": [
    "# Actual Solution: not finished\n",
    "global maximum\n",
    "\n",
    "def \n",
    "\n",
    "\n",
    "if n ==1:\n",
    "    return 1\n",
    "\n",
    "maxEndingHere = 1\n",
    "\n",
    "for i in range(1, n):\n",
    "    res = _lis(arr, i)\n",
    "    if arr[i-1] < arr[n-1] and res+1 > maxEndingHere:\n",
    "        maxEndingHere = res + 1\n",
    "\n",
    "maximum = max(maximum, maxEndingHere)\n",
    "\n",
    "return maxEndingHere\n",
    "\n",
    "def lis(arr):\n",
    "    global maximum\n",
    "    \n",
    "    n = len(arr)\n",
    "    "
   ]
  }
 ],
 "metadata": {
  "kernelspec": {
   "display_name": "Python 3 (ipykernel)",
   "language": "python",
   "name": "python3"
  },
  "language_info": {
   "codemirror_mode": {
    "name": "ipython",
    "version": 3
   },
   "file_extension": ".py",
   "mimetype": "text/x-python",
   "name": "python",
   "nbconvert_exporter": "python",
   "pygments_lexer": "ipython3",
   "version": "3.9.7"
  }
 },
 "nbformat": 4,
 "nbformat_minor": 5
}
