{
 "cells": [
  {
   "cell_type": "markdown",
   "id": "a930834c",
   "metadata": {},
   "source": [
    "# Lecture 12 - Linked Lists "
   ]
  },
  {
   "cell_type": "markdown",
   "id": "e9deac72",
   "metadata": {},
   "source": [
    "### Date: 2-17-2022\n",
    "### Data Structures"
   ]
  },
  {
   "cell_type": "code",
   "execution_count": 1,
   "id": "2bd73102",
   "metadata": {},
   "outputs": [
    {
     "name": "stdout",
     "output_type": "stream",
     "text": [
      "1\n",
      "2\n",
      "3\n"
     ]
    }
   ],
   "source": [
    "# Actual code\n",
    "\n",
    "class Node:\n",
    "    \n",
    "    def __init__(self, data):\n",
    "        self.data = data\n",
    "        self.next = None\n",
    "        \n",
    "    \n",
    "class LinkedList:\n",
    "    \n",
    "    def __init__(self):\n",
    "        self.head = None\n",
    "        \n",
    "    def printList(self):\n",
    "        temp = self.head\n",
    "        while(temp):\n",
    "            print(temp.data)\n",
    "            temp = temp.next\n",
    "            \n",
    "if __name__ == '__main__':\n",
    "    \n",
    "    llist = LinkedList()\n",
    "    \n",
    "    llist.head = Node(1)\n",
    "    second = Node(2)\n",
    "    third = Node(3)\n",
    "    \n",
    "    llist.head.next = second;\n",
    "    second.next = third\n",
    "    \n",
    "    llist.printList()"
   ]
  },
  {
   "cell_type": "code",
   "execution_count": 15,
   "id": "57cfe017",
   "metadata": {},
   "outputs": [
    {
     "name": "stdout",
     "output_type": "stream",
     "text": [
      "1\n"
     ]
    }
   ],
   "source": [
    "# Adjusting the code\n",
    "\n",
    "    \n",
    "class LinkedList:\n",
    "    \n",
    "    def __init__(self, data):\n",
    "        \n",
    "        self.data = data\n",
    "        self.next = None\n",
    "        self.head = None\n",
    "        \n",
    "    def printList(self):\n",
    "        temp = self.head\n",
    "        while(temp):\n",
    "            print(temp.data)\n",
    "            temp = temp.next\n",
    "            \n",
    "    def createNode(self):\n",
    "        pass\n",
    "            \n",
    "    def createList(self, data):\n",
    "        self.head = data[0]\n",
    "        \n",
    "        for i in range(1, len(data)-1):\n",
    "            \n",
    "            createNode(data[i])\n",
    "        \n",
    "            \n",
    "if __name__ == '__main__':\n",
    "    \n",
    "    llist = LinkedList([1, 2, 3, 4])\n",
    "    \n",
    "    llist.head = Node(1)\n",
    "\n",
    "    \n",
    "    Node(1).next = Node(2);\n",
    "    Node(2).next = Node(3)\n",
    "    Node(3).next = None\n",
    "    \n",
    "    llist.printList()"
   ]
  },
  {
   "cell_type": "code",
   "execution_count": 10,
   "id": "649616c0",
   "metadata": {},
   "outputs": [
    {
     "name": "stdout",
     "output_type": "stream",
     "text": [
      "1\n"
     ]
    }
   ],
   "source": [
    "# Actual code\n",
    "\n",
    "class Node:\n",
    "    \n",
    "    def __init__(self, data):\n",
    "        self.data = data\n",
    "        self.next = None\n",
    "        \n",
    "    \n",
    "class LinkedList:\n",
    "    \n",
    "    def __init__(self):\n",
    "        self.head = None\n",
    "        \n",
    "    def printList(self):\n",
    "        temp = self.head\n",
    "        while(temp):\n",
    "            print(temp.data)\n",
    "            temp = temp.next\n",
    "    \n",
    "    def arr2ll(self, arr):\n",
    "        \n",
    "        self.head = Node(arr[0])\n",
    "        self.head.next = \n",
    "        \n",
    "        for i in range(1, len(arr) -1):\n",
    "            \n",
    "            Node(arr[i-1]).next = Node(arr[i])\n",
    "        \n",
    "        Node(arr[-1]).next = None\n",
    "    \n",
    "    def insert(root, item):\n",
    "        \n",
    "        temp = Node(item)\n",
    "\n",
    "        if root == None:\n",
    "            root = temp\n",
    "        else:\n",
    "            ptr = root\n",
    "            while ptr.next != None:\n",
    "                ptr = ptr.next\n",
    "            ptr.next = temp\n",
    "\n",
    "            return root\n",
    "    \n",
    "    def fll(self):\n",
    "        \n",
    "        pptr = None\n",
    "        cptr = self.head\n",
    "        \n",
    "        \n",
    "        while cptr != None:\n",
    "            temp = cptr.next\n",
    "            cptr.next = pptr\n",
    "            pptr = cptr\n",
    "            cptr = temp\n",
    "            \n",
    "        self.head = pptr\n",
    "            \n",
    "            \n",
    "if __name__ == '__main__':\n",
    "    \n",
    "    llist = LinkedList()\n",
    "    arr = [1, 2, 3, 4, 5, 6, 7]\n",
    "    llist.arr2ll(arr)\n",
    "    \n",
    "    llist.printList()"
   ]
  },
  {
   "cell_type": "code",
   "execution_count": 16,
   "id": "8c1a09b6",
   "metadata": {},
   "outputs": [],
   "source": [
    "def insert(root, item):\n",
    "    temp = Node(item)\n",
    "    \n",
    "    if root == None:\n",
    "        root = temp\n",
    "    else:\n",
    "        ptr = root\n",
    "        while ptr.next != None:\n",
    "            ptr = ptr.next\n",
    "        ptr.next = temp\n",
    "        \n",
    "        return root"
   ]
  },
  {
   "cell_type": "markdown",
   "id": "e015ada9",
   "metadata": {},
   "source": [
    "# Most important problem for interviews:\n",
    "\n",
    "#### Flipping a linked list"
   ]
  },
  {
   "cell_type": "code",
   "execution_count": null,
   "id": "c0be2333",
   "metadata": {},
   "outputs": [],
   "source": []
  },
  {
   "cell_type": "code",
   "execution_count": null,
   "id": "b99bbe45",
   "metadata": {},
   "outputs": [],
   "source": []
  },
  {
   "cell_type": "markdown",
   "id": "a418373f",
   "metadata": {},
   "source": [
    "#### Questions for after class:\n",
    "1. You represented memory as a square. Is contigouos memory set up this way or was this just a visualization?\n",
    "2. "
   ]
  },
  {
   "cell_type": "code",
   "execution_count": null,
   "id": "95b899b3",
   "metadata": {},
   "outputs": [],
   "source": []
  }
 ],
 "metadata": {
  "kernelspec": {
   "display_name": "Python 3 (ipykernel)",
   "language": "python",
   "name": "python3"
  },
  "language_info": {
   "codemirror_mode": {
    "name": "ipython",
    "version": 3
   },
   "file_extension": ".py",
   "mimetype": "text/x-python",
   "name": "python",
   "nbconvert_exporter": "python",
   "pygments_lexer": "ipython3",
   "version": "3.9.7"
  }
 },
 "nbformat": 4,
 "nbformat_minor": 5
}
