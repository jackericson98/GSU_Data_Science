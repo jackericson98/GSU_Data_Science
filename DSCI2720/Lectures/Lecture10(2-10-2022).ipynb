{
 "cells": [
  {
   "cell_type": "markdown",
   "id": "4f392c8c",
   "metadata": {},
   "source": [
    "# Lecture 10 - Dynamic Data Structures"
   ]
  },
  {
   "cell_type": "markdown",
   "id": "5869b319",
   "metadata": {},
   "source": [
    "### Date: 2-10-22\n",
    "### Data Structures"
   ]
  },
  {
   "cell_type": "markdown",
   "id": "ad45858a",
   "metadata": {},
   "source": [
    "### Dynamic Data Structures - "
   ]
  },
  {
   "cell_type": "markdown",
   "id": "04bdf79f",
   "metadata": {},
   "source": [
    "#### Why do we call them static data structures:\n",
    "##### Contiguous location. Arrays are considered static because they are homogeneous, which means their memory signature is uniform. This means we can map our memory and access elements easier. Example: The first element in an array has something called a base address. In order to access an element in the nth position in an array we can immediately find it in memeory by adding n*element_size to the base address. \n",
    "\n",
    "##### Dynamic data structures: Linked lists\n",
    "\n",
    "##### Linked List: A list that can be split into multiple memory locations. They are linked through indexed memory addresses. You do not need contiguous memory. The first part of the list is called the head pointer (otherwise it will be dangling). The last part is called the null pointer. "
   ]
  },
  {
   "cell_type": "code",
   "execution_count": null,
   "id": "1fb1c3a5",
   "metadata": {},
   "outputs": [],
   "source": []
  }
 ],
 "metadata": {
  "kernelspec": {
   "display_name": "Python 3 (ipykernel)",
   "language": "python",
   "name": "python3"
  },
  "language_info": {
   "codemirror_mode": {
    "name": "ipython",
    "version": 3
   },
   "file_extension": ".py",
   "mimetype": "text/x-python",
   "name": "python",
   "nbconvert_exporter": "python",
   "pygments_lexer": "ipython3",
   "version": "3.9.7"
  }
 },
 "nbformat": 4,
 "nbformat_minor": 5
}
