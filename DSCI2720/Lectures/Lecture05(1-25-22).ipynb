{
 "cells": [
  {
   "cell_type": "code",
   "execution_count": 12,
   "id": "5367146b",
   "metadata": {},
   "outputs": [
    {
     "name": "stdout",
     "output_type": "stream",
     "text": [
      "55\n"
     ]
    }
   ],
   "source": [
    "def bad_fibonacci(i):\n",
    "    if i <= 1:\n",
    "        return i\n",
    "    else:\n",
    "        return bad_fibonacci(i-1) + bad_fibonacci(i-2)\n",
    "    \n",
    "    \n",
    "print(bad_fibonacci(10))"
   ]
  },
  {
   "cell_type": "code",
   "execution_count": 4,
   "id": "5a398da7",
   "metadata": {},
   "outputs": [
    {
     "name": "stdout",
     "output_type": "stream",
     "text": [
      "55\n"
     ]
    }
   ],
   "source": [
    "def good_fibonacci(i): ### Not fininshed\n",
    "    fib_array = []\n",
    "    if i <= 1:\n",
    "        fib_array.append(i)\n",
    "    else:\n",
    "        return good_fibonacci(i-1) + fib_array[i-2]"
   ]
  },
  {
   "cell_type": "code",
   "execution_count": 8,
   "id": "bdc64774",
   "metadata": {},
   "outputs": [
    {
     "data": {
      "text/plain": [
       "5"
      ]
     },
     "execution_count": 8,
     "metadata": {},
     "output_type": "execute_result"
    }
   ],
   "source": [
    "def stairs(i):\n",
    "    if i<= 2:\n",
    "        return i\n",
    "    else:\n",
    "        return stairs(i-1) + stairs(i-2)\n",
    "    \n",
    "stairs(4)"
   ]
  },
  {
   "cell_type": "code",
   "execution_count": 73,
   "id": "cb8d1d0b",
   "metadata": {},
   "outputs": [
    {
     "name": "stdout",
     "output_type": "stream",
     "text": [
      "12\n",
      "21\n"
     ]
    },
    {
     "data": {
      "text/plain": [
       "4"
      ]
     },
     "execution_count": 73,
     "metadata": {},
     "output_type": "execute_result"
    }
   ],
   "source": [
    "def encryption(n):\n",
    "    i = len(str(n))\n",
    "    if i <= 2:\n",
    "        if int(str(n)) <= 26:\n",
    "            print(n)\n",
    "            return i\n",
    "        else:\n",
    "            print(n)\n",
    "            return i\n",
    "    else:\n",
    "#         print(str(n)[i//2:])\n",
    "#         print(str(n)[:i//2])\n",
    "        return encryption(str(n)[:-1])+encryption(str(n)[-2:])\n",
    "encryption(121)"
   ]
  },
  {
   "cell_type": "code",
   "execution_count": 1,
   "id": "4d738c88",
   "metadata": {},
   "outputs": [
    {
     "name": "stdout",
     "output_type": "stream",
     "text": [
      "34\n",
      "32\n",
      "48\n",
      "87\n",
      "71\n"
     ]
    },
    {
     "data": {
      "text/plain": [
       "26"
      ]
     },
     "execution_count": 1,
     "metadata": {},
     "output_type": "execute_result"
    }
   ],
   "source": [
    "def fib(i):\n",
    "    if i <= 1:\n",
    "        return i\n",
    "    else:\n",
    "        return fib(i-1) + fib(i-2)\n",
    "    \n",
    "    \n",
    "def encryption(number):\n",
    "    str_num = str(number)\n",
    "    raw = fib(len(str_num)+1)\n",
    "    print(raw)\n",
    "    for i in range(len(str_num)-1):\n",
    "        if int(str_num[i]+str_num[i+1]) > 26:\n",
    "            raw -= 2\n",
    "            print(str_num[i]+str_num[i+1])\n",
    "    return raw\n",
    "    \n",
    "encryption(32148712)\n",
    "    \n",
    "\n",
    "\n",
    "    \n",
    "        \n"
   ]
  },
  {
   "cell_type": "code",
   "execution_count": null,
   "id": "04414090",
   "metadata": {},
   "outputs": [],
   "source": []
  }
 ],
 "metadata": {
  "kernelspec": {
   "display_name": "Python 3 (ipykernel)",
   "language": "python",
   "name": "python3"
  },
  "language_info": {
   "codemirror_mode": {
    "name": "ipython",
    "version": 3
   },
   "file_extension": ".py",
   "mimetype": "text/x-python",
   "name": "python",
   "nbconvert_exporter": "python",
   "pygments_lexer": "ipython3",
   "version": "3.9.7"
  }
 },
 "nbformat": 4,
 "nbformat_minor": 5
}
