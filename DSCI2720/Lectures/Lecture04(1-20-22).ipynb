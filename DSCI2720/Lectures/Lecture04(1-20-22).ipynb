{
 "cells": [
  {
   "cell_type": "markdown",
   "id": "1b4d1a88",
   "metadata": {},
   "source": [
    "# Lecture 4: Searching & Mathematical Algorithms"
   ]
  },
  {
   "cell_type": "markdown",
   "id": "7ce23081",
   "metadata": {},
   "source": [
    "### Date: 1-20-22, Class: Data Structures, John Ericson"
   ]
  },
  {
   "cell_type": "markdown",
   "id": "499fffc6",
   "metadata": {},
   "source": []
  },
  {
   "cell_type": "code",
   "execution_count": 2,
   "id": "9eb94f37",
   "metadata": {},
   "outputs": [],
   "source": [
    "array = [1, 2, 3, 4]"
   ]
  },
  {
   "cell_type": "code",
   "execution_count": 3,
   "id": "974586b2",
   "metadata": {},
   "outputs": [
    {
     "name": "stdout",
     "output_type": "stream",
     "text": [
      "[24, 12, 8, 6]\n"
     ]
    }
   ],
   "source": [
    "newarr = []\n",
    "for element in array:\n",
    "    value = 1\n",
    "    for sub in array:\n",
    "        if sub == element:\n",
    "            pass\n",
    "        else:\n",
    "            value = value*sub\n",
    "    newarr.append(value)\n",
    "    \n",
    "print(newarr)\n",
    "        "
   ]
  },
  {
   "cell_type": "code",
   "execution_count": 31,
   "id": "082537f4",
   "metadata": {},
   "outputs": [
    {
     "data": {
      "text/plain": [
       "[120, 60, 40, 30, 24]"
      ]
     },
     "execution_count": 31,
     "metadata": {},
     "output_type": "execute_result"
    }
   ],
   "source": [
    "def arr_div(array):\n",
    "    prefix = 1\n",
    "    suffix = 1\n",
    "    prefix_arr = [prefix]\n",
    "    suffix_arr = [suffix]\n",
    "\n",
    "    for i in range(len(array)):\n",
    "        prefix = array[i]*prefix\n",
    "        prefix_arr.append(prefix)\n",
    "        suffix = array[-i-1]*suffix\n",
    "        suffix_arr.insert(0, suffix)\n",
    "\n",
    "    sol_arr = []    \n",
    "    for i in range(len(array)):\n",
    "        sol_arr.append(prefix_arr[i]*suffix_arr[i+1])\n",
    "\n",
    "    return sol_arr\n",
    "\n",
    "arr_div([1, 2, 3, 4, 5])"
   ]
  },
  {
   "cell_type": "code",
   "execution_count": null,
   "id": "7b638556",
   "metadata": {},
   "outputs": [],
   "source": [
    "prefix array = [1, 2, 6, 24]\n",
    "suffix array = [24, 24, 12, 4]\n",
    "\n",
    "final array = [24, 12, 8, 6]"
   ]
  }
 ],
 "metadata": {
  "kernelspec": {
   "display_name": "Python 3 (ipykernel)",
   "language": "python",
   "name": "python3"
  },
  "language_info": {
   "codemirror_mode": {
    "name": "ipython",
    "version": 3
   },
   "file_extension": ".py",
   "mimetype": "text/x-python",
   "name": "python",
   "nbconvert_exporter": "python",
   "pygments_lexer": "ipython3",
   "version": "3.9.7"
  }
 },
 "nbformat": 4,
 "nbformat_minor": 5
}
