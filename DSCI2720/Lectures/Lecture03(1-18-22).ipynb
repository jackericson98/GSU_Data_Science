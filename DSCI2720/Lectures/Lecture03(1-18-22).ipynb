{
 "cells": [
  {
   "cell_type": "markdown",
   "id": "6a57c42f",
   "metadata": {},
   "source": [
    "# Lecture 3: Searching & Mathematical Algorithms"
   ]
  },
  {
   "cell_type": "markdown",
   "id": "e25367c9",
   "metadata": {},
   "source": [
    "### Date: 1-18-22, Class: Data Structures, John Ericson"
   ]
  },
  {
   "cell_type": "markdown",
   "id": "22133028",
   "metadata": {},
   "source": [
    "#### Start of class: Talked about big O notation and how to group specific algorithms with it. "
   ]
  },
  {
   "cell_type": "markdown",
   "id": "b86a8885",
   "metadata": {},
   "source": [
    "#### Figure out square root with binary search"
   ]
  },
  {
   "cell_type": "code",
   "execution_count": null,
   "id": "b446e5b1",
   "metadata": {},
   "outputs": [],
   "source": []
  }
 ],
 "metadata": {
  "kernelspec": {
   "display_name": "Python 3 (ipykernel)",
   "language": "python",
   "name": "python3"
  },
  "language_info": {
   "codemirror_mode": {
    "name": "ipython",
    "version": 3
   },
   "file_extension": ".py",
   "mimetype": "text/x-python",
   "name": "python",
   "nbconvert_exporter": "python",
   "pygments_lexer": "ipython3",
   "version": "3.9.7"
  }
 },
 "nbformat": 4,
 "nbformat_minor": 5
}
