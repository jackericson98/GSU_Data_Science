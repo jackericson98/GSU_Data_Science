{
 "cells": [
  {
   "cell_type": "markdown",
   "id": "0b8a1253",
   "metadata": {},
   "source": [
    "# Lecture 11 - Linked Lists continued "
   ]
  },
  {
   "cell_type": "markdown",
   "id": "987f6da4",
   "metadata": {},
   "source": [
    "### Date: 2-15-22\n",
    "### Data Structures"
   ]
  },
  {
   "cell_type": "markdown",
   "id": "f9ae002f",
   "metadata": {},
   "source": [
    "### Attempt to create a linked list class of your own:"
   ]
  },
  {
   "cell_type": "code",
   "execution_count": 1,
   "id": "f94180d7",
   "metadata": {},
   "outputs": [
    {
     "ename": "IndentationError",
     "evalue": "expected an indented block (3602315475.py, line 4)",
     "output_type": "error",
     "traceback": [
      "\u001b[0;36m  File \u001b[0;32m\"/var/folders/c_/0rl3t9752h5dw7f19km74gtm0000gn/T/ipykernel_31082/3602315475.py\"\u001b[0;36m, line \u001b[0;32m4\u001b[0m\n\u001b[0;31m    \u001b[0m\n\u001b[0m    ^\u001b[0m\n\u001b[0;31mIndentationError\u001b[0m\u001b[0;31m:\u001b[0m expected an indented block\n"
     ]
    }
   ],
   "source": [
    "# My attempt\n",
    "\n",
    "class My_List:\n",
    "    \n",
    "    def __init__(self):\n",
    "        \n",
    "        self.num_nodes = 0\n",
    "        self.node_addresses = []\n",
    "        \n",
    "    \n",
    "    def create_Node(self, new_address):\n",
    "        \n",
    "        self.num_nodes += 1\n",
    "        self.node_addresses.append(new_address)\n",
    "        \n",
    "        \n",
    "        "
   ]
  },
  {
   "cell_type": "code",
   "execution_count": 4,
   "id": "bad483dd",
   "metadata": {},
   "outputs": [
    {
     "name": "stdout",
     "output_type": "stream",
     "text": [
      "1\n",
      "2\n",
      "3\n"
     ]
    }
   ],
   "source": [
    "# Actual code\n",
    "\n",
    "class Node:\n",
    "    \n",
    "    def __init__(self, data):\n",
    "        self.data = data\n",
    "        self.next = None\n",
    "        \n",
    "    \n",
    "class LinkedList:\n",
    "    \n",
    "    def __init__(self):\n",
    "        self.head = None\n",
    "        \n",
    "    def printList(self):\n",
    "        temp = self.head\n",
    "        while(temp):\n",
    "            print(temp.data)\n",
    "            temp = temp.next\n",
    "            \n",
    "if __name__ == '__main__':\n",
    "    \n",
    "    llist = LinkedList()\n",
    "    \n",
    "    llist.head = Node(1)\n",
    "    second = Node(2)\n",
    "    third = Node(3)\n",
    "    \n",
    "    llist.head.next = second;\n",
    "    second.next = third\n",
    "    \n",
    "    llist.printList()"
   ]
  },
  {
   "cell_type": "code",
   "execution_count": null,
   "id": "efc1a6ac",
   "metadata": {},
   "outputs": [],
   "source": [
    "# Adjusting the code\n",
    "\n",
    "    \n",
    "class LinkedList:\n",
    "    \n",
    "    def __init__(self, data):\n",
    "        \n",
    "        self.data = data\n",
    "        self.next = None\n",
    "        self.head = None\n",
    "        \n",
    "    def printList(self):\n",
    "        temp = self.head\n",
    "        while(temp):\n",
    "            print(temp.data)\n",
    "            temp = temp.next\n",
    "            \n",
    "    def createNode(self):\n",
    "        \n",
    "            \n",
    "    def createList(self, data):\n",
    "        self.head = data[0]\n",
    "        \n",
    "        for i in range(1, len(data)-1):\n",
    "            \n",
    "            createNode(data[i])\n",
    "        \n",
    "            \n",
    "if __name__ == '__main__':\n",
    "    \n",
    "    llist = LinkedList()\n",
    "    \n",
    "    llist.head = Node(1)\n",
    "    second = Node(2)\n",
    "    third = Node(3)\n",
    "    \n",
    "    llist.head.next = second;\n",
    "    second.next = third\n",
    "    \n",
    "    llist.printList()"
   ]
  },
  {
   "cell_type": "code",
   "execution_count": 15,
   "id": "a771ad96",
   "metadata": {},
   "outputs": [
    {
     "name": "stdout",
     "output_type": "stream",
     "text": [
      "10\n",
      "5\n",
      "1\n",
      "2\n",
      "3\n"
     ]
    }
   ],
   "source": [
    "# Manipulating the linked list by inserting an element in the front\n",
    "        \n",
    "    \n",
    "class LinkedList:\n",
    "    \n",
    "    def __init__(self):\n",
    "        self.head = None\n",
    "        self.num_nodes = 0\n",
    "    \n",
    "        \n",
    "    def printList(self):\n",
    "        temp = self.head\n",
    "        while(temp):\n",
    "            print(temp.data)\n",
    "            temp = temp.next\n",
    "    \n",
    "    def createNode(self, data, location):\n",
    "        new_node = Node(data, location)\n",
    "        if new_node.location == 1:\n",
    "            \n",
    "            temp = self.head\n",
    "            self.head = data\n",
    "            self.moveData(1)\n",
    "        \n",
    "        elif location > self.num_nodes:\n",
    "            self.moveData()\n",
    "            \n",
    "        else:\n",
    "            self.moveData(location)\n",
    "    \n",
    "    def moveData(self, location):\n",
    "        \n",
    "        for i in range(location, self.num_nodes):\n",
    "            \n",
    "            temp = locateData(i)\n",
    "            \n",
    "            \n",
    "            \n",
    "    def locateData(self, location):\n",
    "        \n",
    "        # Trace our linked list back to our data and then report the data in that location\n",
    "        \n",
    "    def removeNode(self, location):\n",
    "        \n",
    "        for i in range(location, self.num_nodes):\n",
    "            \n",
    "            node.locateData(location) = node.locateData(location+1)\n",
    "            \n",
    "        self.num_nodes -= 1\n",
    "            \n",
    "        \n",
    "\n",
    "class Node(LinkedList):\n",
    "\n",
    "    def __init__(self, data, location):\n",
    "        super().__init__()\n",
    "        self.data = data\n",
    "        self.location = location\n",
    "        self.next = None     \n",
    "        \n",
    "        \n",
    "if __name__ == '__main__':\n",
    "    \n",
    "    llist = LinkedList()\n",
    "    \n",
    "    llist.head = Node(10)\n",
    "    second = Node(5)\n",
    "    third = Node(1)\n",
    "    fourth = Node(2)\n",
    "    fifth = Node(3)\n",
    "    \n",
    "    llist.head.next = second;\n",
    "    second.next = third\n",
    "    third.next = fourth\n",
    "    fourth.next = fifth\n",
    "    \n",
    "    \n",
    "    \n",
    "    llist.printList()"
   ]
  },
  {
   "cell_type": "code",
   "execution_count": null,
   "id": "ade845a8",
   "metadata": {},
   "outputs": [],
   "source": [
    "new_node = Node(new_data)\n",
    "new_node.next = self.head\n",
    "self.head = new_node\n",
    "\n",
    "def insertAfter(self, prev_node, next_node):\n",
    "    "
   ]
  }
 ],
 "metadata": {
  "kernelspec": {
   "display_name": "Python 3 (ipykernel)",
   "language": "python",
   "name": "python3"
  },
  "language_info": {
   "codemirror_mode": {
    "name": "ipython",
    "version": 3
   },
   "file_extension": ".py",
   "mimetype": "text/x-python",
   "name": "python",
   "nbconvert_exporter": "python",
   "pygments_lexer": "ipython3",
   "version": "3.9.7"
  }
 },
 "nbformat": 4,
 "nbformat_minor": 5
}
