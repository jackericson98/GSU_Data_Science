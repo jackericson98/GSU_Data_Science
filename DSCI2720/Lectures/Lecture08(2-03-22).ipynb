{
 "cells": [
  {
   "cell_type": "markdown",
   "id": "6f4e7bd4",
   "metadata": {},
   "source": [
    "# Lecture 8: Quick Sort Sorting Algorithm"
   ]
  },
  {
   "cell_type": "markdown",
   "id": "b5ecdb7b",
   "metadata": {},
   "source": [
    "### Date: 2-3-22\n",
    "### Data Structures"
   ]
  },
  {
   "cell_type": "markdown",
   "id": "67a16c6e",
   "metadata": {},
   "source": [
    "### Quick sort: The most important algorithm for sorting in CS"
   ]
  },
  {
   "cell_type": "markdown",
   "id": "fe2885d1",
   "metadata": {},
   "source": [
    "#### Definition: Divide and conquer method "
   ]
  },
  {
   "cell_type": "code",
   "execution_count": null,
   "id": "eff9935e",
   "metadata": {},
   "outputs": [],
   "source": [
    "# Psuedo code\n",
    "partition the space {repeatedly}\n",
    "partition[input array, high, low]\n",
    "pivot=array[high]\n",
    "i = low - 1\n",
    "for loop(j=low, j<=high-1; j++)\n",
    "if (array[i]<pivot)\n",
    "i++\n",
    "swap array[i] and array[j]"
   ]
  },
  {
   "cell_type": "code",
   "execution_count": null,
   "id": "fd9b02b9",
   "metadata": {},
   "outputs": [],
   "source": [
    "def quick_sort(array):\n",
    "    if len(array) == 1:\n",
    "        return array\n",
    "    else:\n",
    "        \n",
    "    high = array.index(array[-1])\n",
    "    array.insert(0, 0)\n",
    "    low = 1\n",
    "    pivot = array[high]\n",
    "    i = 0\n",
    "    for j in range(1, high):\n",
    "        if array[j]<pivot:\n",
    "            i+=1\n",
    "            array[i], array[j] = array[j], array[i]\n",
    "\n",
    "    array[i+1], array[high] = array [high], array[i+1] \n",
    "    pivot = array[i+1]\n",
    "    array.pop(0)\n",
    "    return array\n",
    "    \n",
    "    \n",
    "array = [10, 80, 30, 90, 40, 50, 70]\n",
    "quick_sort(array)"
   ]
  },
  {
   "cell_type": "code",
   "execution_count": 9,
   "id": "4ec77d69",
   "metadata": {},
   "outputs": [
    {
     "data": {
      "text/plain": [
       "[10, 30, 40, 50, 70, 80, 90]"
      ]
     },
     "execution_count": 9,
     "metadata": {},
     "output_type": "execute_result"
    }
   ],
   "source": [
    "\n",
    "def quick_sort(array, low=0, high=len(array)-1):\n",
    "\n",
    "    if len(array) == 1:\n",
    "        \n",
    "        return array\n",
    "        \n",
    "    elif low < high:\n",
    "\n",
    "        i = low - 1\n",
    "        pivot = high\n",
    "        for j in range(low, high):\n",
    "            if array[j] <= array[pivot]:\n",
    "                i+=1\n",
    "                array[i], array[j] = array[j], array[i] \n",
    "        array[i+1], array[high] = array[high], array[i+1]\n",
    "\n",
    "        quick_sort(array, low, i)\n",
    "        quick_sort(array, i+1, high)\n",
    "        \n",
    "    return array\n",
    "        \n",
    "array = [10, 80, 30, 90, 40, 50, 70]\n",
    "quick_sort(array)"
   ]
  },
  {
   "cell_type": "code",
   "execution_count": null,
   "id": "4b859bd4",
   "metadata": {},
   "outputs": [],
   "source": [
    "# Actual answer\n",
    "\n",
    "\n",
    "def partition(arr, low, high):\n",
    "    i = (low-1)\n",
    "    pivot = arr[high]\n",
    "    for j in range(low, high):\n",
    "        if arr[j] <= pivot:\n",
    "            i+=1\n",
    "            arr[i], arr[j] = arr[j], arr[i] \n",
    "    arr[i+1], arr[high] = arr[high], arr[i+1]\n",
    "    return (i+1)\n",
    "\n",
    "\n",
    "def quickSort(arr, low, high):\n",
    "    if len(arr) == 1:\n",
    "        print(arr)\n",
    "    if low < high:\n",
    "\n",
    "        pi = partition(arr, low, high)\n",
    "        quickSort(arr, low, pi-1)\n",
    "        quickSort(arr, pi+1, high)\n",
    "        \n",
    "    return arr\n",
    "        \n",
    "arr = [10, 80, 30, 90, 40, 50, 70]\n",
    "n = len(arr)\n",
    "print(quickSort(arr, 0, n-1))"
   ]
  },
  {
   "cell_type": "code",
   "execution_count": null,
   "id": "13b965b8",
   "metadata": {},
   "outputs": [],
   "source": []
  }
 ],
 "metadata": {
  "kernelspec": {
   "display_name": "Python 3 (ipykernel)",
   "language": "python",
   "name": "python3"
  },
  "language_info": {
   "codemirror_mode": {
    "name": "ipython",
    "version": 3
   },
   "file_extension": ".py",
   "mimetype": "text/x-python",
   "name": "python",
   "nbconvert_exporter": "python",
   "pygments_lexer": "ipython3",
   "version": "3.9.7"
  }
 },
 "nbformat": 4,
 "nbformat_minor": 5
}
