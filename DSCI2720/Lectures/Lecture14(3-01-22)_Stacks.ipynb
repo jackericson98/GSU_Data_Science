{
 "cells": [
  {
   "cell_type": "markdown",
   "id": "33d80190",
   "metadata": {},
   "source": [
    "# Lecture 14: Stacks"
   ]
  },
  {
   "cell_type": "markdown",
   "id": "9ec7ecae",
   "metadata": {},
   "source": [
    "### Date: 3-01-22\n",
    "### Data Structures"
   ]
  },
  {
   "cell_type": "markdown",
   "id": "ac48b4dc",
   "metadata": {},
   "source": [
    "#### Stack: \n",
    "    Stack is a linear data structure which follows a particular order in which the operations are performed. The order may be LIFO(Last In First Out) or FILO(First In Last Out)."
   ]
  },
  {
   "cell_type": "markdown",
   "id": "4961b9c3",
   "metadata": {},
   "source": [
    "#### Recursion: \n",
    "    Recursive functions use something called “the call stack.” When a program calls a function, that function goes on top of the call stack. This similar to a stack of books. You add things one at a time. Then, when you are ready to take something off, you always take off the top item. \n",
    "    Rule of thumb is that space complexity is O(n)."
   ]
  },
  {
   "cell_type": "markdown",
   "id": "7875b5d8",
   "metadata": {},
   "source": [
    "#### Infix expression: \n",
    "    The expression of the form a op b. When an operator is in-between every pair of operands. This is the way humans interperet mathematical expressions. \n",
    "#### Postfix expression: \n",
    "    The expression of the form a b op. When an operator is followed for every pair of operands. This is how computers interperet mathematical expressions. \n",
    "    \n",
    "    \n",
    "    Postfix notation, also known as reverse Polish notation, is a syntax for mathematical expressions in which the mathematical operator is always placed after the operands. Though postfix expressions are easily and efficiently evaluated by computers, they can be difficult for humans to read. Complex expressions using standard parenthesized infix notation are often more readable than the corresponding postfix expressions. Consequently, we would sometimes like to allow end users to work with infix notation and then convert it to postfix notation for computer processing. Sometimes, moreover, expressions are stored or generated in postfix, and we would like to convert them to infix for the purpose of reading and editing"
   ]
  },
  {
   "cell_type": "markdown",
   "id": "3baa8537",
   "metadata": {},
   "source": [
    "#### Problem: Sort key sorted lists"
   ]
  },
  {
   "cell_type": "code",
   "execution_count": null,
   "id": "17550323",
   "metadata": {},
   "outputs": [],
   "source": []
  }
 ],
 "metadata": {
  "kernelspec": {
   "display_name": "Python 3 (ipykernel)",
   "language": "python",
   "name": "python3"
  },
  "language_info": {
   "codemirror_mode": {
    "name": "ipython",
    "version": 3
   },
   "file_extension": ".py",
   "mimetype": "text/x-python",
   "name": "python",
   "nbconvert_exporter": "python",
   "pygments_lexer": "ipython3",
   "version": "3.9.7"
  }
 },
 "nbformat": 4,
 "nbformat_minor": 5
}
