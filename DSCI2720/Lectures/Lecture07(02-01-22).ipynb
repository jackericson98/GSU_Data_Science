{
 "cells": [
  {
   "cell_type": "markdown",
   "id": "0a7721dd",
   "metadata": {},
   "source": [
    "# Lecture 7: Basic Sorting Algorithms"
   ]
  },
  {
   "cell_type": "markdown",
   "id": "fe698499",
   "metadata": {},
   "source": [
    "### Date: 02-01-22\n",
    "### Data Structures"
   ]
  },
  {
   "cell_type": "markdown",
   "id": "67b980f6",
   "metadata": {},
   "source": [
    "### Last class: \n",
    "#### We discussed recursion and went over several very common interview questions. "
   ]
  },
  {
   "cell_type": "markdown",
   "id": "123823b3",
   "metadata": {},
   "source": [
    "### Selection Sort: An algorithm in which we go through the list n times and put the ith smallest number in the proper slot each time. "
   ]
  },
  {
   "cell_type": "code",
   "execution_count": 31,
   "id": "ce426faf",
   "metadata": {},
   "outputs": [
    {
     "data": {
      "text/plain": [
       "[1, 2, 3, 4, 4, 5, 5, 6, 7, 8, 9, 45, 67, 88]"
      ]
     },
     "execution_count": 31,
     "metadata": {},
     "output_type": "execute_result"
    }
   ],
   "source": [
    "list = [8, 3, 4, 1, 2, 5, 7, 4, 5, 6, 45, 67, 88, 9]\n",
    "def selection_sort(list):\n",
    "    for i in range(len(list)):\n",
    "        low_in = i\n",
    "        for j in range(i+1, len(list)):\n",
    "            if list[low_in] > list[j]:\n",
    "                low_in = j\n",
    "        list[i], list[low_in] = list[low_in], list[i]\n",
    "        \n",
    "    return list\n",
    "            \n",
    "    \n",
    "selection_sort(list)"
   ]
  },
  {
   "cell_type": "markdown",
   "id": "3a294cb7",
   "metadata": {},
   "source": [
    "### Bubble Sort: An algorithm in which we go through the list n times, and swap any adjacent pairs of elements that are out of order this leads to the largest element bubbling up to the top"
   ]
  },
  {
   "cell_type": "code",
   "execution_count": 35,
   "id": "65b69de7",
   "metadata": {},
   "outputs": [
    {
     "data": {
      "text/plain": [
       "[1, 2, 2, 3, 4, 4, 4, 5, 5, 6, 7, 8, 78]"
      ]
     },
     "execution_count": 35,
     "metadata": {},
     "output_type": "execute_result"
    }
   ],
   "source": [
    "list = [8, 3, 4, 1, 2, 4, 5, 6, 7, 2, 4, 5, 78]\n",
    "def bubble_sort(list):\n",
    "    for i in range(len(list)-1):\n",
    "        for j in range(len(list)-1 -i):\n",
    "            if list[j]>list[j+1]:\n",
    "                list[j], list[j+1] = list[j+1], list[j]\n",
    "    return list\n",
    "bubble_sort(list)"
   ]
  },
  {
   "cell_type": "markdown",
   "id": "9644efed",
   "metadata": {},
   "source": [
    "### Insertion Sort: an algorithm in which we go through the list n times, and insert each number in the ongoing subarray"
   ]
  },
  {
   "cell_type": "code",
   "execution_count": 40,
   "id": "447f6e91",
   "metadata": {},
   "outputs": [
    {
     "ename": "IndexError",
     "evalue": "list index out of range",
     "output_type": "error",
     "traceback": [
      "\u001b[0;31m---------------------------------------------------------------------------\u001b[0m",
      "\u001b[0;31mIndexError\u001b[0m                                Traceback (most recent call last)",
      "\u001b[0;32m/var/folders/c_/0rl3t9752h5dw7f19km74gtm0000gn/T/ipykernel_3850/1433775609.py\u001b[0m in \u001b[0;36m<module>\u001b[0;34m\u001b[0m\n\u001b[1;32m     13\u001b[0m \u001b[0;34m\u001b[0m\u001b[0m\n\u001b[1;32m     14\u001b[0m \u001b[0;34m\u001b[0m\u001b[0m\n\u001b[0;32m---> 15\u001b[0;31m \u001b[0minsertion_sort\u001b[0m\u001b[0;34m(\u001b[0m\u001b[0mlist\u001b[0m\u001b[0;34m)\u001b[0m\u001b[0;34m\u001b[0m\u001b[0;34m\u001b[0m\u001b[0m\n\u001b[0m",
      "\u001b[0;32m/var/folders/c_/0rl3t9752h5dw7f19km74gtm0000gn/T/ipykernel_3850/1433775609.py\u001b[0m in \u001b[0;36minsertion_sort\u001b[0;34m(list)\u001b[0m\n\u001b[1;32m      4\u001b[0m     \u001b[0mnew_arr\u001b[0m \u001b[0;34m=\u001b[0m \u001b[0;34m[\u001b[0m\u001b[0;34m]\u001b[0m\u001b[0;34m\u001b[0m\u001b[0;34m\u001b[0m\u001b[0m\n\u001b[1;32m      5\u001b[0m     \u001b[0;32mfor\u001b[0m \u001b[0mi\u001b[0m \u001b[0;32min\u001b[0m \u001b[0mrange\u001b[0m\u001b[0;34m(\u001b[0m\u001b[0;36m1\u001b[0m\u001b[0;34m,\u001b[0m \u001b[0mlen\u001b[0m\u001b[0;34m(\u001b[0m\u001b[0mlist\u001b[0m\u001b[0;34m)\u001b[0m\u001b[0;34m)\u001b[0m\u001b[0;34m:\u001b[0m\u001b[0;34m\u001b[0m\u001b[0;34m\u001b[0m\u001b[0m\n\u001b[0;32m----> 6\u001b[0;31m         \u001b[0;32mif\u001b[0m \u001b[0mlist\u001b[0m\u001b[0;34m[\u001b[0m\u001b[0mi\u001b[0m\u001b[0;34m]\u001b[0m \u001b[0;34m<\u001b[0m \u001b[0mlist\u001b[0m\u001b[0;34m[\u001b[0m\u001b[0mi\u001b[0m\u001b[0;34m-\u001b[0m\u001b[0;36m1\u001b[0m\u001b[0;34m]\u001b[0m\u001b[0;34m:\u001b[0m\u001b[0;34m\u001b[0m\u001b[0;34m\u001b[0m\u001b[0m\n\u001b[0m\u001b[1;32m      7\u001b[0m             \u001b[0;32mfor\u001b[0m \u001b[0mj\u001b[0m \u001b[0;32min\u001b[0m \u001b[0mrange\u001b[0m\u001b[0;34m(\u001b[0m\u001b[0mi\u001b[0m\u001b[0;34m)\u001b[0m\u001b[0;34m:\u001b[0m\u001b[0;34m\u001b[0m\u001b[0;34m\u001b[0m\u001b[0m\n\u001b[1;32m      8\u001b[0m                 \u001b[0;32mif\u001b[0m \u001b[0mlist\u001b[0m\u001b[0;34m[\u001b[0m\u001b[0mi\u001b[0m\u001b[0;34m]\u001b[0m \u001b[0;34m>\u001b[0m \u001b[0mlist\u001b[0m\u001b[0;34m[\u001b[0m\u001b[0mi\u001b[0m\u001b[0;34m-\u001b[0m\u001b[0mj\u001b[0m\u001b[0;34m-\u001b[0m\u001b[0;36m1\u001b[0m\u001b[0;34m]\u001b[0m\u001b[0;34m:\u001b[0m\u001b[0;34m\u001b[0m\u001b[0;34m\u001b[0m\u001b[0m\n",
      "\u001b[0;31mIndexError\u001b[0m: list index out of range"
     ]
    }
   ],
   "source": [
    "# My attempt\n",
    "\n",
    "list = [8, 3, 4, 1, 2, 4, 5, 6, 7, 2, 4, 5, 78]\n",
    "\n",
    "def insertion_sort(list):\n",
    "    new_arr = []\n",
    "    for i in range(1, len(list)):\n",
    "        if list[i] < list[i-1]:\n",
    "            for j in range(i):\n",
    "                if list[i] > list[i-j-1]:\n",
    "                    list[i-j] = list[i]\n",
    "                    list.pop(i+1)\n",
    "                \n",
    "    return list\n",
    "\n",
    "\n",
    "insertion_sort(list)"
   ]
  },
  {
   "cell_type": "code",
   "execution_count": 45,
   "id": "da517f80",
   "metadata": {},
   "outputs": [
    {
     "data": {
      "text/plain": [
       "[1, 2, 2, 3, 4, 4, 4, 5, 5, 6, 7, 8, 78]"
      ]
     },
     "execution_count": 45,
     "metadata": {},
     "output_type": "execute_result"
    }
   ],
   "source": [
    "# Actual\n",
    "\n",
    "list = [8, 3, 4, 1, 2, 4, 5, 6, 7, 2, 4, 5, 78]\n",
    "\n",
    "\n",
    "def insertion_sort(list):\n",
    "    for i in range(1, len(list)):\n",
    "        key = list[i]\n",
    "        j = i-1\n",
    "        while j>= 0 and key < list[j]:\n",
    "            list[j+1] = list[j]\n",
    "            j -= 1\n",
    "        list[j+1] = key\n",
    "    return list\n",
    "insertion_sort(list)"
   ]
  },
  {
   "cell_type": "code",
   "execution_count": null,
   "id": "e4ce8179",
   "metadata": {},
   "outputs": [],
   "source": []
  }
 ],
 "metadata": {
  "kernelspec": {
   "display_name": "Python 3 (ipykernel)",
   "language": "python",
   "name": "python3"
  },
  "language_info": {
   "codemirror_mode": {
    "name": "ipython",
    "version": 3
   },
   "file_extension": ".py",
   "mimetype": "text/x-python",
   "name": "python",
   "nbconvert_exporter": "python",
   "pygments_lexer": "ipython3",
   "version": "3.9.7"
  }
 },
 "nbformat": 4,
 "nbformat_minor": 5
}
