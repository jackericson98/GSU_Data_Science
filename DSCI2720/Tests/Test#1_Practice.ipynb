{
 "cells": [
  {
   "cell_type": "markdown",
   "id": "52c9e84d",
   "metadata": {},
   "source": [
    "# Data Structures Test # 1 Practice\n",
    "### Date: 2/21/22\n",
    "### Name: John Ericson"
   ]
  },
  {
   "cell_type": "markdown",
   "id": "dc2a658d",
   "metadata": {},
   "source": [
    "#### Question #1:\n",
    "Write a search or sorting algorithm for each of the following time complexities: O(1), O(log(n)), O(n), O(nlog(n)), O(n^2), O(2^n):"
   ]
  },
  {
   "cell_type": "code",
   "execution_count": 22,
   "id": "ae42af7a",
   "metadata": {},
   "outputs": [],
   "source": [
    "list1 = [1, 3, 4, 6, 7, 8, 10, 11]\n",
    "list2 = [-4, 100, 3, 69, 420, 1, 34, 22, -2, -5, 90]\n",
    "\n",
    "def o_1(list): # Search for the first element of a list O(1)\n",
    "    return list[0]\n",
    "\n",
    "def o_logn(list, el): # Binary search for an element\n",
    "        \n",
    "    if len(list) > 1:\n",
    "        mid = len(list)//2\n",
    "\n",
    "        if el == list[mid]:\n",
    "            return mid\n",
    "\n",
    "        elif el < list[mid]:\n",
    "            return o_logn(list[:mid], el)\n",
    "\n",
    "        elif el > list[mid]:\n",
    "            return o_logn(list[mid:], el)\n",
    "    else:\n",
    "        return print(\"{} not in list\" .format(el))\n",
    "\n",
    "def o_n(list, el): # Linear search\n",
    "    for elem in list:\n",
    "        if elem == el:\n",
    "            return list.index(elem)\n",
    "    return print(\"{} not in list\" .format(el))\n",
    "\n",
    "def o_nlogn(list): # Merge sort list\n",
    "    \n",
    "    if len(list) > 1:\n",
    "        \n",
    "        mid = len(list) // 2\n",
    "        \n",
    "        L = list[:mid]\n",
    "        R = list[mid:]\n",
    "        \n",
    "        o_nlogn(L)\n",
    "        o_nlogn(R)\n",
    "        \n",
    "        l = r = a = 0\n",
    "        \n",
    "        while l < len(L) and r < len(R):\n",
    "            \n",
    "            if L[l] < R[r]:\n",
    "                list[a] = L[l]\n",
    "                l += 1\n",
    "            else:\n",
    "                list[a] = R[r]\n",
    "                r += 1\n",
    "            a += 1\n",
    "            \n",
    "        while l < len(L):\n",
    "            list[a] = L[l]\n",
    "            l += 1\n",
    "            a += 1\n",
    "\n",
    "        while r < len(R):\n",
    "            list[a] = R[r]\n",
    "            r += 1\n",
    "            a += 1\n",
    "                \n",
    "        return list\n",
    "    \n",
    "    \n",
    "def o_n2(list): # Linear sort list\n",
    "    for i in range(len(list)):\n",
    "        for j in range(len(list)):\n",
    "            if list[i] < list[j]:\n",
    "                list[i], list[j] = list[j], list[i]\n",
    "                \n",
    "    return list\n",
    "        \n",
    "    \n",
    "def o_2n(list, el): # Exponential search\n",
    "    for i in range(2**len(list)):\n",
    "        if i <= len(list) - 1:\n",
    "            if list[i] == el:\n",
    "                return i\n",
    "        else:\n",
    "            print(i)\n",
    "            "
   ]
  },
  {
   "cell_type": "markdown",
   "id": "469677cd",
   "metadata": {},
   "source": [
    "#### Question #2:\n",
    "\n",
    "Write a divide and conquer algorithm to find the square root of a number."
   ]
  },
  {
   "cell_type": "code",
   "execution_count": 1,
   "id": "e61a6df8",
   "metadata": {},
   "outputs": [
    {
     "data": {
      "text/plain": [
       "3.4641016151399526"
      ]
     },
     "execution_count": 1,
     "metadata": {},
     "output_type": "execute_result"
    }
   ],
   "source": [
    "def sqrt(num, low, high):\n",
    "    \n",
    "    if num == 0 or num == 1:\n",
    "        return num\n",
    "    \n",
    "    guess = (high+low)/2\n",
    "    \n",
    "    if round(guess**2, 10) == num:\n",
    "        return guess\n",
    "    \n",
    "    elif guess**2 > num:\n",
    "        return sqrt(num, low, guess)\n",
    "    \n",
    "    else:\n",
    "        return sqrt(num, guess, high)\n",
    "        \n",
    "    \n",
    "num = 12\n",
    "sqrt(num, 0, num)"
   ]
  },
  {
   "cell_type": "markdown",
   "id": "3fd673a0",
   "metadata": {},
   "source": [
    "#### Question 3: \n",
    "Write a class that can return list statistics (mean, median, mode, min, max, range, std, variance)."
   ]
  },
  {
   "cell_type": "code",
   "execution_count": 5,
   "id": "82e82b45",
   "metadata": {},
   "outputs": [
    {
     "name": "stdout",
     "output_type": "stream",
     "text": [
      "98\n"
     ]
    }
   ],
   "source": [
    "import numpy as np\n",
    "\n",
    "class stats:\n",
    "    \n",
    "    def __init__(self, list):\n",
    "        self.list = list\n",
    "        self.intlist = self.list.astype(int)\n",
    "        self.dict = {}    \n",
    "        \n",
    "    def get_dict(self):\n",
    "        for el in self.intlist:\n",
    "            if el in self.dict:\n",
    "                self.dict[el] += 1\n",
    "            else:\n",
    "                self.dict[el] = 1\n",
    "        return self.dict\n",
    "    \n",
    "    def mean(self):\n",
    "        self.mean = sum(self.list)/len(self.list)\n",
    "        return self.mean\n",
    "    \n",
    "    def median(self):\n",
    "        self.median = self.list[len(self.list)//2]\n",
    "        return self.median\n",
    "    \n",
    "    def mode(self):\n",
    "        dict = self.get_dict()\n",
    "        self.mode = max(dict, key=dict.get)\n",
    "        return self.mode\n",
    "    \n",
    "    def mymin(self):\n",
    "        self.min = min(self.get_dict())\n",
    "        return self.min\n",
    "    \n",
    "    def mymax(self):\n",
    "        self.max = max(self.get_dict())\n",
    "        return self.max\n",
    "    \n",
    "    def myrange(self):\n",
    "        self.range = abs(self.mymin() - self.mymax())\n",
    "        return self.range\n",
    "        \n",
    "    def var(self):\n",
    "        vars = []\n",
    "        mean = self.mean()\n",
    "        for el in self.list:\n",
    "            myVar = (el - mean)**2\n",
    "            vars.append(myVar)\n",
    "        self.var = sum(vars)/len(vars)\n",
    "        return self.var\n",
    "        \n",
    "    def std(self):\n",
    "        self.std = self.var()**0.5\n",
    "        return self.std\n",
    "        \n",
    "    \n",
    "myList = np.random.rand(100)*100\n",
    "myStats = stats(myList)\n",
    "print(myStats.myrange())"
   ]
  },
  {
   "cell_type": "markdown",
   "id": "36b672c5",
   "metadata": {},
   "source": [
    "#### Question 4:\n",
    "Create a function that takes a number, n, and returns the nth element of the Fibbonacci sequence for that number. You must use recursion. "
   ]
  },
  {
   "cell_type": "code",
   "execution_count": 1,
   "id": "8e916206",
   "metadata": {},
   "outputs": [
    {
     "name": "stdout",
     "output_type": "stream",
     "text": [
      "55\n"
     ]
    }
   ],
   "source": [
    "def fib(n):\n",
    "    if n <= 1:\n",
    "        return n\n",
    "    else:\n",
    "        return fib(n-1) + fib(n - 2)\n",
    "        \n",
    "print(fib(10))"
   ]
  },
  {
   "cell_type": "markdown",
   "id": "dc27ec02",
   "metadata": {},
   "source": [
    "#### Question 5:\n",
    "Write working algorithms for selection sort, bubble sort and insertion sort"
   ]
  },
  {
   "cell_type": "code",
   "execution_count": 24,
   "id": "6e62bb1f",
   "metadata": {},
   "outputs": [
    {
     "data": {
      "text/plain": [
       "[-20, 1, 2, 3, 4, 5]"
      ]
     },
     "execution_count": 24,
     "metadata": {},
     "output_type": "execute_result"
    }
   ],
   "source": [
    "list = [3, 2, 1, 4, 5, -20]\n",
    "\n",
    "def selection_sort(list):\n",
    "    for i in range(len(list)):\n",
    "        min = i\n",
    "        for j in range(i, len(list)):\n",
    "            if list[j] < list[min]:\n",
    "                min = j\n",
    "        list[i], list[min] = list[min], list[i]\n",
    "            \n",
    "    return list\n",
    "\n",
    "    \n",
    "def bubble_sort(list):\n",
    "    for j in range(len(list)):\n",
    "        for i in range(len(list)-1):\n",
    "            if list[i] > list[i+1]:\n",
    "                list[i], list[i+1] = list[i+1], list[i]\n",
    "    return list\n",
    "\n",
    "def insertion_sort(array):\n",
    "    for i in range(1, len(array)):\n",
    "        temp = array[i]\n",
    "        j = i - 1\n",
    "        while j >= 0 and temp < array[j]:\n",
    "            array[j+1] = array[j]\n",
    "            j -= 1\n",
    "        array[j+1] = temp\n",
    "    return array\n",
    "                \n",
    "\n"
   ]
  },
  {
   "cell_type": "markdown",
   "id": "cf2302a3",
   "metadata": {},
   "source": [
    "#### Question 6:\n",
    "Write a function that can rotate a matrix by 90 degrees. "
   ]
  },
  {
   "cell_type": "code",
   "execution_count": 62,
   "id": "7f33eecf",
   "metadata": {},
   "outputs": [
    {
     "data": {
      "text/plain": [
       "[[1, 5, 9, 13], [2, 6, 10, 14], [3, 7, 11, 15], [4, 8, 12, 16]]"
      ]
     },
     "execution_count": 62,
     "metadata": {},
     "output_type": "execute_result"
    }
   ],
   "source": [
    "matrix = [[1, 2, 3, 4], [5, 6, 7, 8], [9, 10, 11, 12], [13, 14, 15, 16]]\n",
    "\n",
    "def transpose(matrix):\n",
    "    for i in range(len(matrix)):\n",
    "        for j in range(i, len(matrix[i])):\n",
    "            store = matrix[i][j]\n",
    "            matrix[i][j] = matrix[j][i]\n",
    "            matrix[j][i] = store\n",
    "    return matrix\n",
    "\n",
    "def swap(matrix):\n",
    "    for i in range(len(matrix)):\n",
    "        for j in range\n",
    "\n",
    "transpose(matrix)\n",
    "\n"
   ]
  },
  {
   "cell_type": "markdown",
   "id": "331c2478",
   "metadata": {},
   "source": [
    "#### Question 7:\n",
    "Write out a Quick sort function and a Merge Sort function"
   ]
  },
  {
   "cell_type": "code",
   "execution_count": 1,
   "id": "a60f944f",
   "metadata": {},
   "outputs": [
    {
     "ename": "SyntaxError",
     "evalue": "invalid syntax (Temp/ipykernel_19896/2265082876.py, line 1)",
     "output_type": "error",
     "traceback": [
      "\u001b[1;36m  File \u001b[1;32m\"C:\\Users\\JACKER~1\\AppData\\Local\\Temp/ipykernel_19896/2265082876.py\"\u001b[1;36m, line \u001b[1;32m1\u001b[0m\n\u001b[1;33m    def quick_sort(arr)\u001b[0m\n\u001b[1;37m                       ^\u001b[0m\n\u001b[1;31mSyntaxError\u001b[0m\u001b[1;31m:\u001b[0m invalid syntax\n"
     ]
    }
   ],
   "source": [
    "\n",
    "def quick_sort(arr):\n",
    "    \n",
    "def partition(arr, start, end):\n",
    "    \n",
    "    pivot_index = start\n",
    "    pivot = array[pivot_index]\n",
    "    \n",
    "    \n",
    "    "
   ]
  },
  {
   "cell_type": "code",
   "execution_count": 2,
   "id": "5c8700a3",
   "metadata": {},
   "outputs": [
    {
     "name": "stdout",
     "output_type": "stream",
     "text": [
      "Sorted array is:\n",
      "1\n",
      "5\n",
      "7\n",
      "8\n",
      "9\n",
      "10\n"
     ]
    }
   ],
   "source": [
    "def partition(arr, low, high):\n",
    "    i = (low-1)         # index of smaller element\n",
    "    pivot = arr[high]     # pivot\n",
    " \n",
    "    for j in range(low, high):\n",
    " \n",
    "        # If current element is smaller than or\n",
    "        # equal to pivot\n",
    "        if arr[j] <= pivot:\n",
    " \n",
    "            # increment index of smaller element\n",
    "            i = i+1\n",
    "            arr[i], arr[j] = arr[j], arr[i]\n",
    " \n",
    "    arr[i+1], arr[high] = arr[high], arr[i+1]\n",
    "    return (i+1)\n",
    " \n",
    "# The main function that implements QuickSort\n",
    "# arr[] --> Array to be sorted,\n",
    "# low  --> Starting index,\n",
    "# high  --> Ending index\n",
    " \n",
    "# Function to do Quick sort\n",
    " \n",
    " \n",
    "def quickSort(arr, low, high):\n",
    "    if len(arr) == 1:\n",
    "        return arr\n",
    "    if low < high:\n",
    " \n",
    "        # pi is partitioning index, arr[p] is now\n",
    "        # at right place\n",
    "        pi = partition(arr, low, high)\n",
    " \n",
    "        # Separately sort elements before\n",
    "        # partition and after partition\n",
    "        quickSort(arr, low, pi-1)\n",
    "        quickSort(arr, pi+1, high)\n",
    " \n",
    " \n",
    "# Driver code to test above\n",
    "arr = [10, 7, 8, 9, 1, 5]\n",
    "n = len(arr)\n",
    "quickSort(arr, 0, n-1)\n",
    "print(\"Sorted array is:\")\n",
    "for i in range(n):\n",
    "    print(\"%d\" % arr[i])"
   ]
  },
  {
   "cell_type": "code",
   "execution_count": 28,
   "id": "b72fb634",
   "metadata": {},
   "outputs": [
    {
     "data": {
      "text/plain": [
       "1"
      ]
     },
     "execution_count": 28,
     "metadata": {},
     "output_type": "execute_result"
    }
   ],
   "source": [
    "def binary_search(array, element):\n",
    "    \n",
    "    mid = len(array)//2\n",
    "    \n",
    "    if element == array[mid]:\n",
    "        return mid\n",
    "    elif element < array[mid]:\n",
    "        return binary_search(array[:mid], element)\n",
    "    else: \n",
    "        return binary_search(array[mid:], element)\n",
    "    "
   ]
  },
  {
   "cell_type": "code",
   "execution_count": 59,
   "id": "ddc7b0d1",
   "metadata": {},
   "outputs": [
    {
     "data": {
      "text/plain": [
       "[-2, 1, 2, 2, 3, 6, 6, 9, 11, 34, 78]"
      ]
     },
     "execution_count": 59,
     "metadata": {},
     "output_type": "execute_result"
    }
   ],
   "source": [
    "def insertion_sort(array):\n",
    "    for i in range(len(array)):\n",
    "        temp = array[i]\n",
    "        j = i - 1\n",
    "        while j >= 0 and temp < array[j]:\n",
    "            array[j+1] = array[j]\n",
    "            j -= 1\n",
    "        array[j+1] = temp\n",
    "    return array\n",
    "\n",
    "def bubble_sort(array):\n",
    "    for i in range(len(array)):\n",
    "        for j in range(len(array)-i-1):\n",
    "            if array[j]>array[j+1]:\n",
    "                array[j], array[j+1] = array[j+1], array[j]\n",
    "    return array\n",
    "    \n",
    "def selection_sort(array):\n",
    "    for i in range(len(array)):\n",
    "        min = i\n",
    "        for j in range(i, len(array)):\n",
    "            if array[j] < array[min]:\n",
    "                min = j\n",
    "        array[min], array[i] = array[i], array[min]\n",
    "    return array\n",
    "    \n",
    "array = [2, 6, 2, 1, 3, 78, 9, -2, 11, 34, 6]\n",
    "# bubble_sort(array)\n",
    "# insertion_sort(array)\n",
    "selection_sort(array)"
   ]
  },
  {
   "cell_type": "code",
   "execution_count": null,
   "id": "03c7b4c1",
   "metadata": {},
   "outputs": [],
   "source": []
  },
  {
   "cell_type": "code",
   "execution_count": null,
   "id": "4be17056",
   "metadata": {},
   "outputs": [],
   "source": []
  },
  {
   "cell_type": "code",
   "execution_count": null,
   "id": "ff0dce30",
   "metadata": {},
   "outputs": [],
   "source": []
  },
  {
   "cell_type": "code",
   "execution_count": null,
   "id": "57d82eb2",
   "metadata": {},
   "outputs": [],
   "source": []
  },
  {
   "cell_type": "code",
   "execution_count": null,
   "id": "98a7cb8f",
   "metadata": {},
   "outputs": [],
   "source": []
  },
  {
   "cell_type": "code",
   "execution_count": null,
   "id": "23004f7c",
   "metadata": {},
   "outputs": [],
   "source": []
  },
  {
   "cell_type": "code",
   "execution_count": null,
   "id": "b9cc0b99",
   "metadata": {},
   "outputs": [],
   "source": []
  },
  {
   "cell_type": "code",
   "execution_count": null,
   "id": "c3dbed2c",
   "metadata": {},
   "outputs": [],
   "source": []
  },
  {
   "cell_type": "code",
   "execution_count": null,
   "id": "ae8f208b",
   "metadata": {},
   "outputs": [],
   "source": []
  },
  {
   "cell_type": "code",
   "execution_count": null,
   "id": "62854f28",
   "metadata": {},
   "outputs": [],
   "source": []
  },
  {
   "cell_type": "code",
   "execution_count": null,
   "id": "1d642d87",
   "metadata": {},
   "outputs": [],
   "source": []
  },
  {
   "cell_type": "code",
   "execution_count": null,
   "id": "6c32d3c3",
   "metadata": {},
   "outputs": [],
   "source": []
  },
  {
   "cell_type": "code",
   "execution_count": null,
   "id": "16d47abf",
   "metadata": {},
   "outputs": [],
   "source": []
  },
  {
   "cell_type": "code",
   "execution_count": 8,
   "id": "6ab64adf",
   "metadata": {},
   "outputs": [
    {
     "data": {
      "text/plain": [
       "[1, 2, 2, 3, 4, 6, 7]"
      ]
     },
     "execution_count": 8,
     "metadata": {},
     "output_type": "execute_result"
    }
   ],
   "source": [
    "def selection_sort(array):\n",
    "    \n",
    "    for i in range(len(array)):\n",
    "        min = i\n",
    "        for j in range(i, len(array)):\n",
    "            if array[j]<array[min]:\n",
    "                min = j\n",
    "        array[min], array[i] = array[i], array[min]\n",
    "    return array\n",
    "\n",
    "def bubble_sort(array):\n",
    "    for i in range(len(array)):\n",
    "        for j in range(len(array)-i-1):\n",
    "            if array[j]>array[j+1]:\n",
    "                array[j], array[j+1] = array[j+1], array[j]\n",
    "                \n",
    "    return array\n",
    "\n",
    "def insertion_sort(array):\n",
    "    for i in range(len(array)):\n",
    "        temp = array[i]\n",
    "        j = i - 1\n",
    "        while j >=0 and temp<array[j]:\n",
    "            array[j+1]=array[j]\n",
    "            j-=1\n",
    "        array[j+1] = temp\n",
    "        \n",
    "    return array\n",
    "\n",
    "array = [3, 2, 6, 1, 4, 2, 7]\n",
    "insertion_sort(array)\n",
    "            "
   ]
  },
  {
   "cell_type": "code",
   "execution_count": null,
   "id": "1199a5cc",
   "metadata": {},
   "outputs": [],
   "source": []
  }
 ],
 "metadata": {
  "kernelspec": {
   "display_name": "Python 3 (ipykernel)",
   "language": "python",
   "name": "python3"
  },
  "language_info": {
   "codemirror_mode": {
    "name": "ipython",
    "version": 3
   },
   "file_extension": ".py",
   "mimetype": "text/x-python",
   "name": "python",
   "nbconvert_exporter": "python",
   "pygments_lexer": "ipython3",
   "version": "3.9.7"
  }
 },
 "nbformat": 4,
 "nbformat_minor": 5
}
