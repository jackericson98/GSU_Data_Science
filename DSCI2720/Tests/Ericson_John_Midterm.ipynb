{
 "cells": [
  {
   "cell_type": "markdown",
   "id": "4ba4e75c",
   "metadata": {},
   "source": [
    "# Midterm \n",
    "### Date: 2/22/22\n",
    "### Name: John Ericson"
   ]
  },
  {
   "cell_type": "markdown",
   "id": "2cf518b7",
   "metadata": {},
   "source": [
    "### Question 1:\n",
    "\n",
    " [50 points] Given Array :\n",
    "ARRAY[] = [50, 11, 33, 21, 40, 50, 40, 40, 21]\n",
    "\n",
    "Write a full and complete implementation of the Merge Sort Algorithm\n",
    "such that the given array gets fully sorted in O(nlog2(n)) time complexity\n",
    "overall and O(1) space complexity. Here, n is the length of the list of input\n",
    "integers (array). Your pivot shall always be the last element of any array\n",
    "you consider. We will not be considering any memory used by recursion."
   ]
  },
  {
   "cell_type": "code",
   "execution_count": 72,
   "id": "ef3e4209",
   "metadata": {},
   "outputs": [
    {
     "data": {
      "text/plain": [
       "[11, 21, 21, 33, 40, 40, 40, 50, 50]"
      ]
     },
     "execution_count": 72,
     "metadata": {},
     "output_type": "execute_result"
    }
   ],
   "source": [
    "def quick_sort(array):\n",
    "    \n",
    "    pivot = len(array) - 1\n",
    "    i = 0\n",
    "    j = 0\n",
    "    \n",
    "    while i < pivot:\n",
    "        \n",
    "        if array[i] > array[pivot]:\n",
    "            array[i], array[pivot] = array[pivot], array[i]\n",
    "            \n",
    "            \n",
    "        elif array[j]>array[i]: \n",
    "            array[i], array[j] = array[j], array[i]\n",
    "            j+=1\n",
    "        else:\n",
    "            j+=1\n",
    "        i+=1    \n",
    "    \n",
    "    \n",
    "    return array\n",
    "# Driver Code\n",
    "\n",
    "array = [50, 11, 33, 21, 40, 50, 40, 40, 21]\n",
    "quick_sort(array)"
   ]
  },
  {
   "cell_type": "markdown",
   "id": "12221c4c",
   "metadata": {},
   "source": [
    "### Question 2:\n",
    "\n",
    "[50 points] Given Array :\n",
    "ARRAY[] = [11, 21, 33, 40, 50]\n",
    "Write a full and complete recursive implementation of the Binary Search\n",
    "Algorithm such that you find your target element 21 in O(log2(n)) time\n",
    "complexity overall and O(1) space complexity. Here, n is the length of\n",
    "the list of input integers (array). We will not be considering any memory\n",
    "used by recursion."
   ]
  },
  {
   "cell_type": "code",
   "execution_count": 8,
   "id": "cf152040",
   "metadata": {},
   "outputs": [
    {
     "name": "stdout",
     "output_type": "stream",
     "text": [
      "Your element is not in this array\n"
     ]
    }
   ],
   "source": [
    "def binary_search(array, element, low, high):\n",
    "    \n",
    "    if len(array)>0:\n",
    "        mid = (high+low)//2\n",
    "\n",
    "        if element == array[mid]:\n",
    "            return print(\"Your element is in position {}\", .format(mid))\n",
    "        elif element > array[mid]:\n",
    "            return binary_search(array, element, mid, high)\n",
    "        else:\n",
    "            return binary_search(array, element, low, mid)\n",
    "    else:\n",
    "        print(\"Your element is not in this array\")\n",
    "        \n",
    "        \n",
    "# Driver Code        \n",
    "array = [11, 21, 33, 40, 50]\n",
    "binary_search(array, 21, 0, len(array))\n"
   ]
  },
  {
   "cell_type": "code",
   "execution_count": 60,
   "id": "477b5a1b",
   "metadata": {},
   "outputs": [
    {
     "name": "stderr",
     "output_type": "stream",
     "text": [
      "\n",
      "KeyboardInterrupt\n",
      "\n"
     ]
    }
   ],
   "source": [
    "def merge_sort(array):\n",
    "    \n",
    "    if len(array) >= 1:\n",
    "        \n",
    "        mid = len(array)//2\n",
    "        L = array[:mid]\n",
    "        R = array[mid:]\n",
    "        \n",
    "        merge_sort(L)\n",
    "        merge_sort(R)\n",
    "        l = r = a = 0\n",
    "        while l<=len(L) and r <= len(R):\n",
    "            \n",
    "            if L[l] < R[r]:\n",
    "                array[a] = L[l]\n",
    "                l += 1\n",
    "            else:\n",
    "                array[a] = R[r]\n",
    "                r += 1\n",
    "            a += 1\n",
    "            \n",
    "        while l<=len(L):\n",
    "            array[a] = L[l]\n",
    "            l += 1\n",
    "            a += 1\n",
    "        while r<=len(R):\n",
    "            array[a] = R[r]\n",
    "            r += 1\n",
    "            a += 1\n",
    "            \n",
    "    return array\n",
    "\n",
    "\n",
    "array = [2, 45, 12, 76, 4, 1, 3, 5]\n",
    "merge_sort(array)\n",
    "        "
   ]
  },
  {
   "cell_type": "code",
   "execution_count": 70,
   "id": "601796a1",
   "metadata": {},
   "outputs": [
    {
     "data": {
      "text/plain": [
       "[11, 21, 21, 33, 40, 40, 40, 50, 50]"
      ]
     },
     "execution_count": 70,
     "metadata": {},
     "output_type": "execute_result"
    }
   ],
   "source": [
    "# Quick sort process:\n",
    "# 1. set pivot to the end, set i to the forst and j to i - 1\n",
    "# 2. if the i value is larger than the pivot swap them if not incriment i\n",
    "# 3. \n",
    "\n",
    "\n",
    "def quick_sort(array):\n",
    "    \n",
    "    pivot = len(array) - 1\n",
    "    i = 0\n",
    "    j = 0\n",
    "    \n",
    "    while i < pivot:\n",
    "        \n",
    "        if array[i] > array[pivot]:\n",
    "            array[i], array[pivot] = array[pivot], array[i]\n",
    "            \n",
    "            \n",
    "        elif array[j]>array[i]: \n",
    "            array[i], array[j] = array[j], array[i]\n",
    "            j+=1\n",
    "        else:\n",
    "            j+=1\n",
    "        i+=1    \n",
    "    \n",
    "    \n",
    "    return array\n",
    "# Driver Code\n",
    "\n",
    "array1 = [50, 11, 33, 21, 40, 50, 40, 40, 21]\n",
    "array = [5, 4, 3, 2, 1]\n",
    "quick_sort(array1)"
   ]
  },
  {
   "cell_type": "code",
   "execution_count": null,
   "id": "6dae65e5",
   "metadata": {},
   "outputs": [],
   "source": []
  }
 ],
 "metadata": {
  "kernelspec": {
   "display_name": "Python 3 (ipykernel)",
   "language": "python",
   "name": "python3"
  },
  "language_info": {
   "codemirror_mode": {
    "name": "ipython",
    "version": 3
   },
   "file_extension": ".py",
   "mimetype": "text/x-python",
   "name": "python",
   "nbconvert_exporter": "python",
   "pygments_lexer": "ipython3",
   "version": "3.9.7"
  }
 },
 "nbformat": 4,
 "nbformat_minor": 5
}
